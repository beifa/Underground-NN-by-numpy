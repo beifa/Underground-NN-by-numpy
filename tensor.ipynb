{
  "nbformat": 4,
  "nbformat_minor": 0,
  "metadata": {
    "colab": {
      "name": "tensor.ipynb",
      "provenance": [],
      "collapsed_sections": [],
      "mount_file_id": "14hxZe85SZg1kGx1IRQSsx3MfoJ5LleI3",
      "authorship_tag": "ABX9TyMUZsUpXebTzcyKtRvtW6Jd"
    },
    "kernelspec": {
      "name": "python3",
      "display_name": "Python 3"
    }
  },
  "cells": [
    {
      "cell_type": "code",
      "metadata": {
        "id": "sS3QH-z9VufW",
        "colab": {
          "base_uri": "https://localhost:8080/"
        },
        "outputId": "b98dff4c-b247-4c20-f718-ffe3fdb3dd8d"
      },
      "source": [
        "import torch\n",
        "import functools\n",
        "import numpy  as np\n",
        "from IPython.core.debugger import set_trace\n",
        "import torchvision\n",
        "from tqdm import trange\n",
        "\n",
        "%pylab inline"
      ],
      "execution_count": 1,
      "outputs": [
        {
          "output_type": "stream",
          "text": [
            "Populating the interactive namespace from numpy and matplotlib\n"
          ],
          "name": "stdout"
        }
      ]
    },
    {
      "cell_type": "markdown",
      "metadata": {
        "id": "DkpZYQpkGaDa"
      },
      "source": [
        "https://pytorch.org/tutorials/beginner/pytorch_with_examples.html"
      ]
    },
    {
      "cell_type": "markdown",
      "metadata": {
        "id": "F6CT3qtxODD1"
      },
      "source": [
        "Функция регистр добавляет в класс тензор метод mul, т.к.\n",
        "мул наследуется от класса Function то он имеет метод apply\n",
        "именно туда мы и перейдем\n",
        "\n",
        "        - setattr(Tensor, name, functools.partialmethod(fn.apply, fn))\n",
        "        - fn это мул <class '__main__.Mul'>\n",
        "        - name = 'mul'\n",
        "        - затем попав в метод apply (fn.apply)\n",
        "            - arg(fn) это аргумент который мы передали в apply\n",
        "\n",
        "и получается что  ctx это класс MUl, вызывает класс Tensor и передаем в него \n",
        "        \n",
        "        - Tensor(arg.forward(ctx, self.data, *[t.data for t in x]))\n",
        "        - self this a = 1\n",
        "        - arg <class '__main__.Mul'>\n",
        "        - x = 3 or b\n",
        "        - self.data => 1.data=> self this tensor after .data get array [1]\n",
        "        - 'подставим'\n",
        "        - Mul.forward (x= ( self.data, y = *[t.data for t in x]))\n",
        "            - save x, y\n",
        "            - mul x * y \n",
        "- ctx это класс мул он передается для сохранения значений x, y\n",
        "(method save tensor)\n",
        "- затем мы сохраняем ctx  в переменную _ctx  класса тензор\n",
        "- затем если мы выполним метод backward in class Tensor\n",
        "произойдет следующие\n",
        "\n",
        "        - пока не вызвали(backward) в классе Tensor есть\n",
        "        только результат мул и сохраненный класс мул\n",
        "        - и так вызываем\n",
        "\n",
        "        if self._ctx is None:\n",
        "            return\n",
        "            проходим тк не нон\n",
        "        if self.grad is None and fill:\n",
        "            # iniy first grad ones\n",
        "            assert self.data.size == 1\n",
        "            self.grad = np.ones_like(self.data)      \n",
        "        assert(self.grad is not None) \n",
        "        \n",
        "        инициализируем градиент единицами, self.grad = [1]\n",
        "\n",
        "        grads = self._ctx.backward(self._ctx, self.grad)\n",
        "        \n",
        "        grads = (array([3]), array([1]))\n",
        "        - Mul.backward\n",
        "        \n",
        "            def backward(ctx, grad_out):      \n",
        "                x, y = ctx.saved_tensors =>  [array([1]), array([3])] \n",
        "                return y * grad_out, x * grad_out\n",
        "\n",
        "        получаем сохраненные значения изначальные\n",
        "        затем умножаем на градиент он равен 1 пока что\n",
        "        и возвращаем полученные значения\n",
        "        ctx.parents  это тензоры а и б\n",
        "            \n",
        "            if len(self._ctx.parents) == 1:\n",
        "                grads = [grads]\n",
        "\n",
        "        это сделано чтоб использовать зип\n",
        "            \n",
        "            - self._ctx.parents (tensor([1]), tensor([3])),\n",
        "            - grads = (array([3]), array([1]))\n",
        "\n",
        "            for t, g in zip(self._ctx.parents, grads):\n",
        "                # t  Tensor\n",
        "                if g.shape != t.data.shape:\n",
        "                    print('grad shape must match tensor shape')\n",
        "                    assert(False)           \n",
        "                t.grad = g"
      ]
    },
    {
      "cell_type": "code",
      "metadata": {
        "id": "k-L0Wj5YWCNG"
      },
      "source": [
        "# make base class\n",
        "class Tensor:\n",
        "    def __init__(self, data):\n",
        "\n",
        "        if type(data) != np.ndarray:\n",
        "            set_trace()\n",
        "            print('error type data %r' % data)\n",
        "            assert(False)\n",
        "        self.data = data        \n",
        "        self.grad = None\n",
        "        self._ctx = None\n",
        "    \n",
        "    def __repr__(self):\n",
        "        # tensor([1.]))\n",
        "        return f'tensor({self.data})'\n",
        "\n",
        "    def backward(self, fill = True):\n",
        "        \n",
        "        # print(\"running backward on\", self)\n",
        "\n",
        "        if self._ctx is None:\n",
        "            return\n",
        "\n",
        "        if self.grad is None and fill:\n",
        "            # iniy first grad ones\n",
        "            assert self.data.size == 1\n",
        "            self.grad = np.ones_like(self.data)\n",
        "        \n",
        "        assert(self.grad is not None)  \n",
        "\n",
        "        \"\"\"\n",
        "        _ctx.backward return from <class '__main__.Mul'> \n",
        "        and method Mul.backward return y * grad_out, x * grad_out\n",
        "        \n",
        "        \"\"\"      \n",
        "        grads = self._ctx.backward(self._ctx, self.grad)\n",
        "        # print('Func name: ',type(self._ctx))\n",
        "        # print('Grad: ', self.grad.shape)\n",
        "        # print('Self: ', self.data.shape)\n",
        "        # set_trace()\n",
        "        if len(self._ctx.parents) == 1:\n",
        "            grads = [grads]\n",
        "\n",
        "        # print(self._ctx.parents, grads)\n",
        "\n",
        "        for t, g in zip(self._ctx.parents, grads):\n",
        "            # t  Tensor\n",
        "            \"\"\"\n",
        "            print(g.shape,t.data.shape)\n",
        "\n",
        "                    (1,) (1,)\n",
        "                    (30, 10) (30, 10)\n",
        "                    (30, 10) (30, 10)\n",
        "                    (1, 30, 10) (30, 10) ??? why, fix squeeze\n",
        "                    (30, 128) (30, 128)\n",
        "                    (30, 128) (30, 128)\n",
        "                    (30, 784) (30, 784)\n",
        "                    (784, 128) (784, 128)\n",
        "                    (128, 10) (128, 10)\n",
        "                    (30, 10) (30, 10)\n",
        "                    (1,) (1,)             \n",
        "            \"\"\"     \n",
        "            # print(g.shape, t.data.shape)\n",
        "            if g.shape != t.data.shape :\n",
        "                g = np.squeeze(g)              \n",
        "            \n",
        "            if g.shape != t.data.shape:\n",
        "                print('grad shape must match tensor shape')                \n",
        "                assert(False)\n",
        "            t.grad = g           \n",
        "            t.backward(False)          \n",
        "      \n",
        "         \n",
        "\n",
        "\"\"\"\n",
        "https://pytorch.org/tutorials/beginner/pytorch_with_examples.html\n",
        "https://pytorch.org/tutorials/beginner/examples_autograd/two_layer_net_custom_function.html#:~:text=beginner%2Fexamples_autograd%2Ftwo_layer_net_custom_function-,PyTorch%3A%20Defining%20New%20autograd%20Functions,PyTorch%20autograd%20to%20compute%20gradients.\n",
        "В прямом проходе мы получаем тензор, содержащий ввод и возврат\n",
        "Тензор, содержащий вывод. \n",
        "\n",
        "ctx - это объект контекста, который можно использовать\n",
        "хранить информацию для обратных вычислений. Вы можете кешировать произвольные\n",
        "объекты для использования в обратном проходе с помощью метода ctx.save_for_backward.\n",
        "\n",
        "\n",
        "При обратном проходе мы получаем тензор, содержащий градиент потери\n",
        "относительно выхода, и нам нужно вычислить градиент потерь относительно входа.\n",
        "\n",
        "\"\"\"\n",
        "\n",
        "class Function:\n",
        "\n",
        "    def __init__(self, *tensor):\n",
        "        self.parents = tensor  \n",
        "        self.saved_tensors = []\n",
        "    \n",
        "    def save_for_backward(self, *x):\n",
        "        self.saved_tensors.extend(x)    \n",
        "\n",
        "    def apply(self, arg, *x):\n",
        "        \"\"\"\n",
        "        почему мы здесь а потому что fn.apply и передаем аргумент fn\n",
        "        a = Tensor(np.array([1]))\n",
        "        b = Tensor(np.array([3]))\n",
        "        \n",
        "        a.mul(b)\n",
        "        \n",
        "        arg: <class '__main__.Mul'> , fn\n",
        "        self.data -> Tensor.data->[1] a\n",
        "        [3] = b        \n",
        "        \n",
        "        \"\"\"        \n",
        "        ctx = arg(self, *x)         \n",
        "        ret = Tensor(arg.forward(ctx, self.data, *[t.data for t in x]))\n",
        "        ret._ctx = ctx\n",
        "        return ret\n",
        "\n",
        "\n",
        "def register(name, fn):\n",
        "    \"\"\"\n",
        "    class A:\n",
        "        print('hell')\n",
        "    a = A()\n",
        "    setattr(a, 'oo', lambda x: x *2)\n",
        "    a.oo(2)\n",
        "    >4\n",
        "\n",
        "    we add mul to class Tensor    \n",
        "\n",
        "    partialmethod(fumc, arg)\n",
        "    \"\"\"    \n",
        "    # set_trace()\n",
        "    setattr(Tensor, name, functools.partialmethod(fn.apply, fn))\n",
        "\n",
        "\n",
        "class Mul(Function):\n",
        "    \"\"\"\n",
        "    out = x.mul.y\n",
        "    back\n",
        "    out/dx, out/dy\n",
        "    \n",
        "    \"\"\"\n",
        "\n",
        "    @staticmethod\n",
        "    def forward(ctx, x, y):\n",
        "        ctx.save_for_backward(x, y)\n",
        "        return x * y\n",
        "\n",
        "    @staticmethod\n",
        "    def backward(ctx, grad_out):       \n",
        "        # set_trace()\n",
        "        x, y = ctx.saved_tensors       \n",
        "        return y * grad_out, x * grad_out\n",
        "\n",
        "register('mul', Mul)\n",
        "\n",
        "class Add(Function):\n",
        "    \"\"\"sum\"\"\"\n",
        "    @staticmethod\n",
        "    def forward(ctx, x, y):\n",
        "        ctx.save_for_backward(x, y)\n",
        "        return x + y\n",
        "\n",
        "    @staticmethod\n",
        "    def backward(ctx, grad_out):     \n",
        "        x, y = ctx.saved_tensors       \n",
        "        return grad_out, grad_out\n",
        "\n",
        "\n",
        "class ReLU(Function):\n",
        "    \"\"\"relu\"\"\"\n",
        "    @staticmethod\n",
        "    def forward(ctx, in_val):\n",
        "        ctx.save_for_backward(in_val)\n",
        "        return np.maximum(in_val, 0)\n",
        "\n",
        "    @staticmethod\n",
        "    def backward(ctx, grad_out):     \n",
        "        in_val = ctx.saved_tensors         \n",
        "        grad_out[in_val[0] < 0] = 0   \n",
        "        return grad_out\n",
        "\n",
        "register('relu', ReLU)        \n",
        "\n",
        "class Sum(Function):\n",
        "    \"\"\"sum array each dx is 1\"\"\"\n",
        "    @staticmethod\n",
        "    def forward(ctx, in_val):\n",
        "       \n",
        "        ctx.save_for_backward(in_val)\n",
        "        return np.array([in_val.sum()])\n",
        "\n",
        "    @staticmethod\n",
        "    def backward(ctx, grad_out):\n",
        "        # set_trace()     \n",
        "        in_val = ctx.saved_tensors #!!!!!!!!!!!!!!!!!!!!!!!!!!            \n",
        "        return grad_out * np.ones_like(in_val[0])\n",
        "\n",
        "\n",
        "register('sum', Sum)\n",
        "\n",
        "class Dot(Function):\n",
        "    \"\"\"\n",
        "    a = [[1, 0], [0, 1]]\n",
        "    b = [[4, 1], [2, 2]]\n",
        "    np.dot(a, b)\n",
        "    >> array([[4, 1],\n",
        "             [2, 2]])  \n",
        "    \n",
        "    \"\"\"\n",
        "    @staticmethod\n",
        "    def forward(ctx, in_val, w):\n",
        "        ctx.save_for_backward(in_val, w)\n",
        "        return in_val.dot(w)\n",
        "\n",
        "    @staticmethod\n",
        "    def backward(ctx, grad_out):     \n",
        "        in_val, w = ctx.saved_tensors\n",
        "        # set_trace()\n",
        "        g_grad = grad_out.dot(w.T) # (10,10,1) and (128,10)  after 10, 128\n",
        "        w_grad = grad_out.T.dot(in_val).T\n",
        "        return g_grad, w_grad\n",
        "\n",
        "register('dot', Dot)\n",
        "\n",
        "\n",
        "class Log_softmax(Function):\n",
        "\n",
        "    @staticmethod\n",
        "    def forward(ctx, x):\n",
        "        ctx.save_for_backward(x)\n",
        "        mx = x.max(axis=1)\n",
        "        stbl = mx + np.log(np.exp(x- mx.reshape((-1, 1))).sum(axis=1))        \n",
        "        return x - stbl.reshape(-1,1)        \n",
        "\n",
        "    @staticmethod\n",
        "    def backward(ctx, grad_out):     \n",
        "        x = ctx.saved_tensors\n",
        "        # set_trace() \n",
        "        return  grad_out - np.exp(x)*grad_out.sum(axis=1).reshape((-1, 1))      \n",
        " \n",
        "register('log_softmax', Log_softmax)"
      ],
      "execution_count": 2,
      "outputs": []
    },
    {
      "cell_type": "code",
      "metadata": {
        "colab": {
          "base_uri": "https://localhost:8080/"
        },
        "id": "F3mhhvLwrHLm",
        "outputId": "0ab98134-15c9-4a9e-88d4-efcf33eaa77b"
      },
      "source": [
        "a = Tensor(np.array([1]))\n",
        "b = Tensor(np.array([3]))\n",
        "c = a.mul(b)\n",
        "# check how works\n",
        "print('No grad: ', a.grad, b.grad)\n",
        "c.backward()\n",
        "print('Numpy grad: ', c)\n",
        "print('Numpy Grad: ', a.grad, b.grad)\n",
        "print('-----------------')\n",
        "print('Time to torch')\n",
        "a  = torch.tensor([1.], requires_grad=True)\n",
        "b  = torch.tensor([3.], requires_grad=True)\n",
        "c = a.matmul(b)\n",
        "c.backward()\n",
        "print('Torch grad: ', c)\n",
        "print('Torch Grad: ', a.grad, b.grad)"
      ],
      "execution_count": 3,
      "outputs": [
        {
          "output_type": "stream",
          "text": [
            "No grad:  None None\n",
            "Numpy grad:  tensor([3])\n",
            "Numpy Grad:  [3] [1]\n",
            "-----------------\n",
            "Time to torch\n",
            "Torch grad:  tensor(3., grad_fn=<DotBackward>)\n",
            "Torch Grad:  tensor([3.]) tensor([1.])\n"
          ],
          "name": "stdout"
        }
      ]
    },
    {
      "cell_type": "markdown",
      "metadata": {
        "id": "nkCqVatusxHW"
      },
      "source": [
        "## Test NN"
      ]
    },
    {
      "cell_type": "code",
      "metadata": {
        "id": "Ug9kmXcSv3mh"
      },
      "source": [
        "import requests, gzip, os, hashlib"
      ],
      "execution_count": 4,
      "outputs": []
    },
    {
      "cell_type": "code",
      "metadata": {
        "colab": {
          "base_uri": "https://localhost:8080/"
        },
        "id": "6C8_VxEEEXA_",
        "outputId": "012ef163-efec-4157-e411-4908ab01066e"
      },
      "source": [
        "\"\"\"\n",
        "why, because torchvision.datasets.MNIST(root= './', download=True) not work\n",
        "HTTPError: HTTP Error 403: Forbidden\n",
        "\"\"\"\n",
        "def load_data(url : str) -> np.array:\n",
        "    \"\"\"\n",
        "    https://www.geeksforgeeks.org/md5-hash-python/\n",
        "    https://pytorch.org/tutorials/beginner/nn_tutorial.html\n",
        "    idea not use name, hash?    \n",
        "    \n",
        "    \"\"\"    \n",
        "    tmp = os.path.join('/content/', hashlib.md5(url.encode('utf-8')).hexdigest())    \n",
        "    if os.path.isfile(tmp):\n",
        "        with open(tmp, 'rb') as f:\n",
        "            d = f.read()\n",
        "    else:\n",
        "        with open(tmp, 'wb') as f:\n",
        "            d = requests.get(url).content\n",
        "            f.write(d)\n",
        "    return np.frombuffer(gzip.decompress(d), dtype = np.uint8)\n",
        "\n",
        "x = load_data(\"http://yann.lecun.com/exdb/mnist/train-images-idx3-ubyte.gz\")[16:].reshape((-1, 28, 28))\n",
        "y = load_data(\"http://yann.lecun.com/exdb/mnist/train-labels-idx1-ubyte.gz\")[8:]\n",
        "\n",
        "x_test = load_data(\"http://yann.lecun.com/exdb/mnist/t10k-images-idx3-ubyte.gz\")[16:].reshape((-1, 28, 28))\n",
        "y_test = load_data(\"http://yann.lecun.com/exdb/mnist/t10k-labels-idx1-ubyte.gz\")[8:]\n",
        "\n",
        "x.shape, y.shape, x_test.shape, y_test.shape"
      ],
      "execution_count": 5,
      "outputs": [
        {
          "output_type": "execute_result",
          "data": {
            "text/plain": [
              "((60000, 28, 28), (60000,), (10000, 28, 28), (10000,))"
            ]
          },
          "metadata": {
            "tags": []
          },
          "execution_count": 5
        }
      ]
    },
    {
      "cell_type": "code",
      "metadata": {
        "id": "-N_8jTP6EdCm"
      },
      "source": [
        "class SGD:\n",
        "    def __init__(self, tensors, lr=0.001, momentum = 0.):\n",
        "        \"\"\"\n",
        "        tensors: array \n",
        "        use:\n",
        "            optim = SGD([model.l1, model.l2], lr = lr)\n",
        "            ...\n",
        "            optim.step() \n",
        "\n",
        "        momentum implement use https://cs231n.github.io/neural-networks-3/\n",
        "        but I'm not sure right \n",
        "        \n",
        "        \"\"\"\n",
        "        self.lr = lr\n",
        "        self.tensors = tensors\n",
        "        self.v1 = 0.\n",
        "        self.v2 = 0.\n",
        "        self.mo = momentum\n",
        "        if self.mo < 0.0:\n",
        "            raise ValueError(\"Invalid momentum value: {}\".format(momentum))\n",
        "\n",
        "    \n",
        "    def nag(self, v, grad):\n",
        "        # Nesterov’s Accelerated Momentum (NAG)\n",
        "        v_prev = v \n",
        "        v = self.mo * v - self.lr * grad        \n",
        "        return v, -self.mo * v_prev + (1 + self.mo) * v\n",
        "\n",
        "\n",
        "    def step(self):\n",
        "\n",
        "        for t in self.tensors:\n",
        "            if self.mo != 0.:\n",
        "                if t.data.shape[0] == 784:\n",
        "                # https://realpython.com/gradient-descent-algorithm-python/\n",
        "                # v = self.mu * self.v1 - self.lr * t.grad  \n",
        "                    self.v1, upd =  self.nag(self.v1, t.grad)\n",
        "                    t.data +=  upd                    \n",
        "                else:\n",
        "                    self.v2, upd =  self.nag(self.v2, t.grad)\n",
        "                    t.data +=  upd\n",
        "            else:\n",
        "             \n",
        "                t.data -= self.lr * t.grad\n",
        "\n",
        "\n",
        "# adam\n",
        "class Adam:\n",
        "    def __init__(self,\n",
        "                 tensors,\n",
        "                 lr=1e-4,\n",
        "                 b1 = 0.9,\n",
        "                 b2 = 0.999,\n",
        "                 eps = 1e-8):     \n",
        "\n",
        "        self.lr = lr\n",
        "        self.tensors = tensors\n",
        "        self.b1 = b1\n",
        "        self.b2 = b2\n",
        "        self.eps = eps\n",
        "        self.groups = {}\n",
        "\n",
        "        # init param\n",
        "        self.m = [np.zeros_like(t.data) for t in self.tensors]\n",
        "        self.v = [np.zeros_like(t.data) for t in self.tensors]\n",
        "\n",
        "        self.t = 0\n",
        "\n",
        "\n",
        "    def step(self):\n",
        "        self.t += 1\n",
        "        for i, t in enumerate(self.tensors):\n",
        "            self.m[i] = self.b1 * self.m[i] + (1 - self.b1) * t.grad\n",
        "            self.v[i] = self.b2 * self.v[i] + (1 - self.b2) * np.square(t.grad)\n",
        "\n",
        "            m_hat = self.m[i] / (1. - self.b1 ** self.t)\n",
        "            v_hat = self.v[i] / (1. - self.b2 ** self.t)\n",
        "\n",
        "            t.data -= self.lr * m_hat / (np.sqrt(v_hat) + self.eps)\n",
        "      "
      ],
      "execution_count": 6,
      "outputs": []
    },
    {
      "cell_type": "code",
      "metadata": {
        "colab": {
          "base_uri": "https://localhost:8080/",
          "height": 354
        },
        "id": "hQ9tbxXGszCT",
        "outputId": "16a03fc7-92df-47b8-883e-75faa53153d9"
      },
      "source": [
        "# make nn\n",
        "class NN:\n",
        "    def __init__(self, l1, l2):\n",
        "        self.l1 = Tensor(l1)\n",
        "        self.l2 = Tensor(l2)\n",
        "\n",
        "    def forward(self, x):\n",
        "        x = x.dot(self.l1)\n",
        "        x = x.relu()\n",
        "        x = x.dot(self.l2)\n",
        "        return x.log_softmax()\n",
        "\n",
        "\n",
        "# init weight\n",
        "def weight_init(w: int, h: int , mode = 'gauss') -> np.array:\n",
        "    \"\"\"\n",
        "    w : columns, Width.\n",
        "    h : rows, Height.\n",
        "    mode : ['gaussian', 'uniform'] \n",
        "    https://discuss.pytorch.org/t/how-are-layer-weights-and-biases-initialized-by-default/13073   \n",
        "    \"\"\"\n",
        "    if mode == 'gauss':\n",
        "        w = np.random.randn(w, h) / np.sqrt(w*h)\n",
        "    else:\n",
        "        w = np.random.uniform(-1, 1, size = (w, h)) / np.sqrt(w*h)\n",
        "    return w.astype(np.float32)\n",
        "\n",
        "\n",
        "np.random.seed(13)\n",
        "lr = 0.001\n",
        "batch = 128\n",
        "l1 = weight_init(784, 128, mode = 'uniform')\n",
        "l2 = weight_init(128, 10, mode = 'uniform')\n",
        "\n",
        "model = NN(l1, l2)\n",
        "# optim = SGD([model.l1, model.l2], momentum=0.7)  \n",
        "optim = Adam([model.l1, model.l2])         \n",
        "\n",
        "\n",
        "bar = trange(500)\n",
        "accuracies, losses = [], []\n",
        "for i in bar:\n",
        "    samp = np.random.randint(0, x.shape[0], size=(batch))\n",
        "    X = Tensor(x[samp].reshape((-1, 28*28)))\n",
        "    Y = y[samp]\n",
        "    z = np.zeros((len(samp), 10))\n",
        "    z[range(z.shape[0]), Y] = 1\n",
        "    z = Tensor(z)\n",
        "\n",
        "    y_ = model.forward(X)\n",
        "    # mean\n",
        "    # x_loss = (-out * x_lsm).mean(axis=1)\n",
        "    p1 = y_.mul(z)\n",
        "    loss = p1.sum().mul(Tensor(np.array([-1/y_.data.size]))) # add minus\n",
        "    # set_trace()\n",
        "    loss.backward()\n",
        "    optim.step()\n",
        "\n",
        "    cat = np.argmax(y_.data, axis=1)\n",
        "    acc = (cat == Y).mean()\n",
        "    # SGD\n",
        "    # model.l1.data = model.l1.data - lr*model.l1.grad\n",
        "    # model.l2.data = model.l2.data - lr*model.l2.grad\n",
        "\n",
        "    # printing\n",
        "    loss = loss.data\n",
        "    losses.append(loss)\n",
        "    accuracies.append(acc)\n",
        "    bar.set_description('Loss:  %.3f, Accuracy: %.3f' % (loss, acc)) \n",
        "figsize(5, 5)\n",
        "plot(losses)\n",
        "plot(accuracies)"
      ],
      "execution_count": 13,
      "outputs": [
        {
          "output_type": "stream",
          "text": [
            "Loss:  0.030, Accuracy: 0.906: 100%|██████████| 500/500 [00:06<00:00, 78.08it/s]\n"
          ],
          "name": "stderr"
        },
        {
          "output_type": "execute_result",
          "data": {
            "text/plain": [
              "[<matplotlib.lines.Line2D at 0x7fcb941ec110>]"
            ]
          },
          "metadata": {
            "tags": []
          },
          "execution_count": 13
        },
        {
          "output_type": "display_data",
          "data": {
            "image/png": "[encoded data removed]",
            "text/plain": [
              "<Figure size 360x360 with 1 Axes>"
            ]
          },
          "metadata": {
            "tags": [],
            "needs_background": "light"
          }
        }
      ]
    },
    {
      "cell_type": "code",
      "metadata": {
        "colab": {
          "base_uri": "https://localhost:8080/"
        },
        "id": "0jlk0j5tAnkO",
        "outputId": "d7a229fc-c16b-4c9b-c6c2-76fed85413b2"
      },
      "source": [
        "model.l1.grad[65]\n"
      ],
      "execution_count": 14,
      "outputs": [
        {
          "output_type": "execute_result",
          "data": {
            "text/plain": [
              "array([0., 0., 0., 0., 0., 0., 0., 0., 0., 0., 0., 0., 0., 0., 0., 0., 0.,\n",
              "       0., 0., 0., 0., 0., 0., 0., 0., 0., 0., 0., 0., 0., 0., 0., 0., 0.,\n",
              "       0., 0., 0., 0., 0., 0., 0., 0., 0., 0., 0., 0., 0., 0., 0., 0., 0.,\n",
              "       0., 0., 0., 0., 0., 0., 0., 0., 0., 0., 0., 0., 0., 0., 0., 0., 0.,\n",
              "       0., 0., 0., 0., 0., 0., 0., 0., 0., 0., 0., 0., 0., 0., 0., 0., 0.,\n",
              "       0., 0., 0., 0., 0., 0., 0., 0., 0., 0., 0., 0., 0., 0., 0., 0., 0.,\n",
              "       0., 0., 0., 0., 0., 0., 0., 0., 0., 0., 0., 0., 0., 0., 0., 0., 0.,\n",
              "       0., 0., 0., 0., 0., 0., 0., 0., 0.])"
            ]
          },
          "metadata": {
            "tags": []
          },
          "execution_count": 14
        }
      ]
    },
    {
      "cell_type": "code",
      "metadata": {
        "colab": {
          "base_uri": "https://localhost:8080/",
          "height": 536
        },
        "id": "EgV8RrhTc-ud",
        "outputId": "20299776-16b9-41a9-b9f4-acd3c34f3189"
      },
      "source": [
        "def vis_same_error(y_test_t, pred)-> None:\n",
        "\n",
        "    idx = np.argwhere(y_test_t.data != pred)\n",
        "    bad = x_test[idx]  \n",
        "    tmp = []\n",
        "    for _ in range(12):\n",
        "        tmp.append(np.random.randint(bad.shape[0]))\n",
        "    \n",
        "    figsize(10, 10)\n",
        "    imshow(np.concatenate(bad[tmp].reshape(4, 28*3, 28), axis = 1))\n",
        "    print('')\n",
        "    print('Predicted: ', pred[idx][tmp].ravel(), 'Target', y_test_t.data[idx][tmp].ravel())\n",
        "\n",
        "\n",
        "def evaluate(model, x, y)-> None:\n",
        "    y_= model.forward(x)\n",
        "    # print(y_.data.shape)\n",
        "    pred =  np.argmax(y_.data, axis =1)\n",
        "    acc = (y.data == pred).mean()\n",
        "    print('Accuracy model: ', acc)\n",
        "    print('Bad count: ', int(y.data.shape[0] * (1 - acc)))\n",
        "    vis_same_error(y_test_t, pred)\n",
        "\n",
        "\n",
        "x_test_t = Tensor(x_test.reshape(-1, 28*28))\n",
        "y_test_t = Tensor(y_test)\n",
        "evaluate(model, x_test_t, y_test_t)"
      ],
      "execution_count": 15,
      "outputs": [
        {
          "output_type": "stream",
          "text": [
            "Accuracy model:  0.94\n",
            "Bad count:  600\n",
            "\n",
            "Predicted:  [7 4 1 9 5 1 3 9 8 9 9 3] Target [2 9 7 4 9 2 5 8 2 4 4 9]\n"
          ],
          "name": "stdout"
        },
        {
          "output_type": "display_data",
          "data": {
            "image/png": "[encoded data removed]",
            "text/plain": [
              "<Figure size 720x720 with 1 Axes>"
            ]
          },
          "metadata": {
            "tags": [],
            "needs_background": "light"
          }
        }
      ]
    },
    {
      "cell_type": "markdown",
      "metadata": {
        "id": "wVdPs9NG97tG"
      },
      "source": [
        "TODO\n",
        "\n",
        "- make conv\n",
        "- make adam\n",
        "    - https://arxiv.org/pdf/1412.6980.pdf\n",
        "- make sgd\n",
        "    - https://github.com/pytorch/pytorch/blob/master/torch/optim/_functional.py\n",
        "    - https://pytorch.org/docs/master/_modules/torch/optim/sgd.html#SGD\n",
        "    - https://cs231n.github.io/neural-networks-3/\n",
        "\n",
        "- make optim class"
      ]
    },
    {
      "cell_type": "code",
      "metadata": {
        "id": "LyrAPwWCEc-f"
      },
      "source": [
        ""
      ],
      "execution_count": 9,
      "outputs": []
    },
    {
      "cell_type": "code",
      "metadata": {
        "id": "vUJIz7K6Ec8H"
      },
      "source": [
        ""
      ],
      "execution_count": 9,
      "outputs": []
    },
    {
      "cell_type": "code",
      "metadata": {
        "id": "X7uIZgFCEc4O"
      },
      "source": [
        ""
      ],
      "execution_count": 9,
      "outputs": []
    }
  ]
}