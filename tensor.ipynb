{
  "nbformat": 4,
  "nbformat_minor": 0,
  "metadata": {
    "colab": {
      "name": "tensor.ipynb",
      "provenance": [],
      "collapsed_sections": [],
      "mount_file_id": "14hxZe85SZg1kGx1IRQSsx3MfoJ5LleI3",
      "authorship_tag": "ABX9TyNsmjcdcSnemPTNGcvhySPU"
    },
    "kernelspec": {
      "name": "python3",
      "display_name": "Python 3"
    }
  },
  "cells": [
    {
      "cell_type": "code",
      "metadata": {
        "id": "sS3QH-z9VufW",
        "colab": {
          "base_uri": "https://localhost:8080/"
        },
        "outputId": "7ab7a07f-0a20-418b-db03-72821b125b60"
      },
      "source": [
        "import torch\n",
        "import functools\n",
        "import numpy  as np\n",
        "from IPython.core.debugger import set_trace\n",
        "import torchvision\n",
        "from tqdm import trange\n",
        "\n",
        "%pylab inline"
      ],
      "execution_count": 1,
      "outputs": [
        {
          "output_type": "stream",
          "text": [
            "Populating the interactive namespace from numpy and matplotlib\n"
          ],
          "name": "stdout"
        }
      ]
    },
    {
      "cell_type": "markdown",
      "metadata": {
        "id": "DkpZYQpkGaDa"
      },
      "source": [
        "https://pytorch.org/tutorials/beginner/pytorch_with_examples.html"
      ]
    },
    {
      "cell_type": "markdown",
      "metadata": {
        "id": "F6CT3qtxODD1"
      },
      "source": [
        "Функция регистр добавляет в класс тензор метод mul, т.к.\n",
        "мул наследуется от класса Function то он имеет метод apply\n",
        "именно туда мы и перейдем\n",
        "\n",
        "        - setattr(Tensor, name, functools.partialmethod(fn.apply, fn))\n",
        "        - fn это мул <class '__main__.Mul'>\n",
        "        - name = 'mul'\n",
        "        - затем попав в метод apply (fn.apply)\n",
        "            - arg(fn) это аргумент который мы передали в apply\n",
        "\n",
        "и получается что  ctx это класс MUl, вызывает класс Tensor и передаем в него \n",
        "        \n",
        "        - Tensor(arg.forward(ctx, self.data, *[t.data for t in x]))\n",
        "        - self this a = 1\n",
        "        - arg <class '__main__.Mul'>\n",
        "        - x = 3 or b\n",
        "        - self.data => 1.data=> self this tensor after .data get array [1]\n",
        "        - 'подставим'\n",
        "        - Mul.forward (x= ( self.data, y = *[t.data for t in x]))\n",
        "            - save x, y\n",
        "            - mul x * y \n",
        "- ctx это класс мул он передается для сохранения значений x, y\n",
        "(method save tensor)\n",
        "- затем мы сохраняем ctx  в переменную _ctx  класса тензор\n",
        "- затем если мы выполним метод backward in class Tensor\n",
        "произойдет следующие\n",
        "\n",
        "        - пока не вызвали(backward) в классе Tensor есть\n",
        "        только результат мул и сохраненный класс мул\n",
        "        - и так вызываем\n",
        "\n",
        "        if self._ctx is None:\n",
        "            return\n",
        "            проходим тк не нон\n",
        "        if self.grad is None and fill:\n",
        "            # iniy first grad ones\n",
        "            assert self.data.size == 1\n",
        "            self.grad = np.ones_like(self.data)      \n",
        "        assert(self.grad is not None) \n",
        "        \n",
        "        инициализируем градиент единицами, self.grad = [1]\n",
        "\n",
        "        grads = self._ctx.backward(self._ctx, self.grad)\n",
        "        \n",
        "        grads = (array([3]), array([1]))\n",
        "        - Mul.backward\n",
        "        \n",
        "            def backward(ctx, grad_out):      \n",
        "                x, y = ctx.saved_tensors =>  [array([1]), array([3])] \n",
        "                return y * grad_out, x * grad_out\n",
        "\n",
        "        получаем сохраненные значения изначальные\n",
        "        затем умножаем на градиент он равен 1 пока что\n",
        "        и возвращаем полученные значения\n",
        "        ctx.parents  это тензоры а и б\n",
        "            \n",
        "            if len(self._ctx.parents) == 1:\n",
        "                grads = [grads]\n",
        "\n",
        "        это сделано чтоб использовать зип\n",
        "            \n",
        "            - self._ctx.parents (tensor([1]), tensor([3])),\n",
        "            - grads = (array([3]), array([1]))\n",
        "\n",
        "            for t, g in zip(self._ctx.parents, grads):\n",
        "                # t  Tensor\n",
        "                if g.shape != t.data.shape:\n",
        "                    print('grad shape must match tensor shape')\n",
        "                    assert(False)           \n",
        "                t.grad = g"
      ]
    },
    {
      "cell_type": "code",
      "metadata": {
        "id": "k-L0Wj5YWCNG"
      },
      "source": [
        "# make base class\n",
        "class Tensor:\n",
        "    def __init__(self, data):\n",
        "\n",
        "        if type(data) != np.ndarray:\n",
        "            set_trace()\n",
        "            print('error type data %r' % data)\n",
        "            assert(False)\n",
        "        self.data = data        \n",
        "        self.grad = None\n",
        "        self._ctx = None\n",
        "    \n",
        "    def __repr__(self):\n",
        "        # tensor([1.]))\n",
        "        return f'tensor({self.data})'\n",
        "\n",
        "    def backward(self, fill = True):\n",
        "        \n",
        "        # print(\"running backward on\", self)\n",
        "\n",
        "        if self._ctx is None:\n",
        "            return\n",
        "\n",
        "        if self.grad is None and fill:\n",
        "            # iniy first grad ones\n",
        "            # print(self.data.size)\n",
        "            assert self.data.size == 1\n",
        "            self.grad = np.ones_like(self.data)\n",
        "        \n",
        "        assert(self.grad is not None)  \n",
        "\n",
        "        \"\"\"\n",
        "        _ctx.backward return from <class '__main__.Mul'> \n",
        "        and method Mul.backward return y * grad_out, x * grad_out\n",
        "        \n",
        "        \"\"\"      \n",
        "        grads = self._ctx.backward(self._ctx, self.grad)\n",
        "        # print('Func name: ',type(self._ctx))\n",
        "        # print('Grad: ', self.grad.shape)\n",
        "        # print('Self: ', self.data.shape)\n",
        "        # set_trace()\n",
        "        if len(self._ctx.parents) == 1:\n",
        "            grads = [grads]\n",
        "\n",
        "        # print(self._ctx.parents, grads)\n",
        "\n",
        "        for t, g in zip(self._ctx.parents, grads):\n",
        "            # t  Tensor\n",
        "            \"\"\"\n",
        "            print(g.shape,t.data.shape)\n",
        "\n",
        "                    (1,) (1,)\n",
        "                    (30, 10) (30, 10)\n",
        "                    (30, 10) (30, 10)\n",
        "                    (1, 30, 10) (30, 10) ??? why, fix squeeze\n",
        "                    (30, 128) (30, 128)\n",
        "                    (30, 128) (30, 128)\n",
        "                    (30, 784) (30, 784)\n",
        "                    (784, 128) (784, 128)\n",
        "                    (128, 10) (128, 10)\n",
        "                    (30, 10) (30, 10)\n",
        "                    (1,) (1,)             \n",
        "            \"\"\"\n",
        "               \n",
        "            # print(g.shape, t.data.shape)\n",
        "            if g.shape != t.data.shape :\n",
        "                g = np.squeeze(g)              \n",
        "           \n",
        "            if g.shape != t.data.shape:\n",
        "                print('grad shape must match tensor shape')                \n",
        "                assert(False)\n",
        "            t.grad = g           \n",
        "            t.backward(False)          \n",
        "      \n",
        "         \n",
        "\n",
        "\"\"\"\n",
        "https://pytorch.org/tutorials/beginner/pytorch_with_examples.html\n",
        "https://pytorch.org/tutorials/beginner/examples_autograd/two_layer_net_custom_function.html#:~:text=beginner%2Fexamples_autograd%2Ftwo_layer_net_custom_function-,PyTorch%3A%20Defining%20New%20autograd%20Functions,PyTorch%20autograd%20to%20compute%20gradients.\n",
        "В прямом проходе мы получаем тензор, содержащий ввод и возврат\n",
        "Тензор, содержащий вывод. \n",
        "\n",
        "ctx - это объект контекста, который можно использовать\n",
        "хранить информацию для обратных вычислений. Вы можете кешировать произвольные\n",
        "объекты для использования в обратном проходе с помощью метода ctx.save_for_backward.\n",
        "\n",
        "\n",
        "При обратном проходе мы получаем тензор, содержащий градиент потери\n",
        "относительно выхода, и нам нужно вычислить градиент потерь относительно входа.\n",
        "\n",
        "\"\"\"\n",
        "\n",
        "class Function:\n",
        "\n",
        "    def __init__(self, *tensor):\n",
        "        self.parents = tensor  \n",
        "        self.saved_tensors = []\n",
        "    \n",
        "    def save_for_backward(self, *x):\n",
        "        self.saved_tensors.extend(x)    \n",
        "\n",
        "    def apply(self, arg, *x):\n",
        "        \"\"\"\n",
        "        почему мы здесь а потому что fn.apply и передаем аргумент fn\n",
        "        a = Tensor(np.array([1]))\n",
        "        b = Tensor(np.array([3]))\n",
        "        \n",
        "        a.mul(b)\n",
        "        \n",
        "        arg: <class '__main__.Mul'> , fn\n",
        "        self.data -> Tensor.data->[1] a\n",
        "        [3] = b        \n",
        "        \n",
        "        \"\"\"        \n",
        "        ctx = arg(self, *x)         \n",
        "        ret = Tensor(arg.forward(ctx, self.data, *[t.data for t in x]))\n",
        "        ret._ctx = ctx\n",
        "        return ret\n",
        "\n",
        "\n",
        "def register(name, fn):\n",
        "    \"\"\"\n",
        "    class A:\n",
        "        print('hell')\n",
        "    a = A()\n",
        "    setattr(a, 'oo', lambda x: x *2)\n",
        "    a.oo(2)\n",
        "    >4\n",
        "\n",
        "    we add mul to class Tensor    \n",
        "\n",
        "    partialmethod(fumc, arg)\n",
        "    \"\"\"    \n",
        "    # set_trace()\n",
        "    setattr(Tensor, name, functools.partialmethod(fn.apply, fn))\n",
        "\n",
        "\n",
        "class Mul(Function):\n",
        "    \"\"\"\n",
        "    out = x.mul.y\n",
        "    back\n",
        "    out/dx, out/dy\n",
        "    \n",
        "    \"\"\"\n",
        "\n",
        "    @staticmethod\n",
        "    def forward(ctx, x, y):\n",
        "        ctx.save_for_backward(x, y)\n",
        "        return x * y\n",
        "\n",
        "    @staticmethod\n",
        "    def backward(ctx, grad_out):       \n",
        "        # set_trace()\n",
        "        x, y = ctx.saved_tensors       \n",
        "        return y * grad_out, x * grad_out\n",
        "\n",
        "register('mul', Mul)\n",
        "\n",
        "class Add(Function):\n",
        "    \"\"\"sum\"\"\"\n",
        "    @staticmethod\n",
        "    def forward(ctx, x, y):\n",
        "        ctx.save_for_backward(x, y)\n",
        "        return x + y\n",
        "\n",
        "    @staticmethod\n",
        "    def backward(ctx, grad_out):     \n",
        "        x, y = ctx.saved_tensors       \n",
        "        return grad_out, grad_out\n",
        "register('add', Add)\n",
        "\n",
        "class ReLU(Function):\n",
        "    \"\"\"relu\"\"\"\n",
        "    @staticmethod\n",
        "    def forward(ctx, in_val):\n",
        "        ctx.save_for_backward(in_val)\n",
        "        return np.maximum(in_val, 0)\n",
        "\n",
        "    @staticmethod\n",
        "    def backward(ctx, grad_out):     \n",
        "        in_val = ctx.saved_tensors         \n",
        "        grad_out[in_val[0] < 0] = 0   \n",
        "        return grad_out\n",
        "\n",
        "register('relu', ReLU)        \n",
        "\n",
        "class Sum(Function):\n",
        "    \"\"\"sum array each dx is 1\"\"\"\n",
        "    @staticmethod\n",
        "    def forward(ctx, in_val):\n",
        "       \n",
        "        ctx.save_for_backward(in_val)\n",
        "        return np.array([in_val.sum()])\n",
        "\n",
        "    @staticmethod\n",
        "    def backward(ctx, grad_out):\n",
        "        # set_trace()     \n",
        "        in_val = ctx.saved_tensors #!!!!!!!!!!!!!!!!!!!!!!!!!!            \n",
        "        return grad_out * np.ones_like(in_val[0])\n",
        "\n",
        "\n",
        "register('sum', Sum)\n",
        "\n",
        "class Dot(Function):\n",
        "    \"\"\"\n",
        "    a = [[1, 0], [0, 1]]\n",
        "    b = [[4, 1], [2, 2]]\n",
        "    np.dot(a, b)\n",
        "    >> array([[4, 1],\n",
        "             [2, 2]])  \n",
        "    \n",
        "    \"\"\"\n",
        "    @staticmethod\n",
        "    def forward(ctx, in_val, w):\n",
        "        ctx.save_for_backward(in_val, w)\n",
        "        return in_val.dot(w)\n",
        "\n",
        "    @staticmethod\n",
        "    def backward(ctx, grad_out):     \n",
        "        in_val, w = ctx.saved_tensors\n",
        "        # set_trace()\n",
        "        g_grad = grad_out.dot(w.T) # (10,10,1) and (128,10)  after 10, 128\n",
        "        w_grad = grad_out.T.dot(in_val).T\n",
        "        return g_grad, w_grad\n",
        "\n",
        "register('dot', Dot)\n",
        "\n",
        "\n",
        "class Log_softmax(Function):\n",
        "\n",
        "    @staticmethod\n",
        "    def forward(ctx, x):\n",
        "        ctx.save_for_backward(x)\n",
        "        mx = x.max(axis=1)\n",
        "        stbl = mx + np.log(np.exp(x- mx.reshape((-1, 1))).sum(axis=1))        \n",
        "        return x - stbl.reshape(-1,1)        \n",
        "\n",
        "    @staticmethod\n",
        "    def backward(ctx, grad_out):     \n",
        "        x = ctx.saved_tensors\n",
        "        # set_trace() \n",
        "        return  grad_out - np.exp(x)*grad_out.sum(axis=1).reshape((-1, 1))      \n",
        " \n",
        "register('log_softmax', Log_softmax)"
      ],
      "execution_count": 58,
      "outputs": []
    },
    {
      "cell_type": "code",
      "metadata": {
        "colab": {
          "base_uri": "https://localhost:8080/"
        },
        "id": "F3mhhvLwrHLm",
        "outputId": "9762cb8b-3372-477b-e04f-c433019decd2"
      },
      "source": [
        "a = Tensor(np.array([1]))\n",
        "b = Tensor(np.array([3]))\n",
        "c = a.mul(b)\n",
        "# check how works\n",
        "print('No grad: ', a.grad, b.grad)\n",
        "c.backward()\n",
        "print('Numpy grad: ', c)\n",
        "print('Numpy Grad: ', a.grad, b.grad)\n",
        "print('-----------------')\n",
        "print('Time to torch')\n",
        "a  = torch.tensor([1.], requires_grad=True)\n",
        "b  = torch.tensor([3.], requires_grad=True)\n",
        "c = a.matmul(b)\n",
        "c.backward()\n",
        "print('Torch grad: ', c)\n",
        "print('Torch Grad: ', a.grad, b.grad)"
      ],
      "execution_count": 3,
      "outputs": [
        {
          "output_type": "stream",
          "text": [
            "No grad:  None None\n",
            "Numpy grad:  tensor([3])\n",
            "Numpy Grad:  [3] [1]\n",
            "-----------------\n",
            "Time to torch\n",
            "Torch grad:  tensor(3., grad_fn=<DotBackward>)\n",
            "Torch Grad:  tensor([3.]) tensor([1.])\n"
          ],
          "name": "stdout"
        }
      ]
    },
    {
      "cell_type": "markdown",
      "metadata": {
        "id": "nkCqVatusxHW"
      },
      "source": [
        "## Test NN"
      ]
    },
    {
      "cell_type": "code",
      "metadata": {
        "id": "Ug9kmXcSv3mh"
      },
      "source": [
        "import requests, gzip, os, hashlib"
      ],
      "execution_count": 4,
      "outputs": []
    },
    {
      "cell_type": "code",
      "metadata": {
        "colab": {
          "base_uri": "https://localhost:8080/"
        },
        "id": "6C8_VxEEEXA_",
        "outputId": "402a196d-0e29-47e2-cdb9-8993720858d4"
      },
      "source": [
        "\"\"\"\n",
        "why, because torchvision.datasets.MNIST(root= './', download=True) not work\n",
        "HTTPError: HTTP Error 403: Forbidden\n",
        "\"\"\"\n",
        "def load_data(url : str) -> np.array:\n",
        "    \"\"\"\n",
        "    https://www.geeksforgeeks.org/md5-hash-python/\n",
        "    https://pytorch.org/tutorials/beginner/nn_tutorial.html\n",
        "    idea not use name, hash?    \n",
        "    \n",
        "    \"\"\"    \n",
        "    tmp = os.path.join('/content/', hashlib.md5(url.encode('utf-8')).hexdigest())    \n",
        "    if os.path.isfile(tmp):\n",
        "        with open(tmp, 'rb') as f:\n",
        "            d = f.read()\n",
        "    else:\n",
        "        with open(tmp, 'wb') as f:\n",
        "            d = requests.get(url).content\n",
        "            f.write(d)\n",
        "    return np.frombuffer(gzip.decompress(d), dtype = np.uint8)\n",
        "\n",
        "x = load_data(\"http://yann.lecun.com/exdb/mnist/train-images-idx3-ubyte.gz\")[16:].reshape((-1, 28, 28))\n",
        "y = load_data(\"http://yann.lecun.com/exdb/mnist/train-labels-idx1-ubyte.gz\")[8:]\n",
        "\n",
        "x_test = load_data(\"http://yann.lecun.com/exdb/mnist/t10k-images-idx3-ubyte.gz\")[16:].reshape((-1, 28, 28))\n",
        "y_test = load_data(\"http://yann.lecun.com/exdb/mnist/t10k-labels-idx1-ubyte.gz\")[8:]\n",
        "\n",
        "x.shape, y.shape, x_test.shape, y_test.shape"
      ],
      "execution_count": 5,
      "outputs": [
        {
          "output_type": "execute_result",
          "data": {
            "text/plain": [
              "((60000, 28, 28), (60000,), (10000, 28, 28), (10000,))"
            ]
          },
          "metadata": {
            "tags": []
          },
          "execution_count": 5
        }
      ]
    },
    {
      "cell_type": "code",
      "metadata": {
        "id": "-N_8jTP6EdCm"
      },
      "source": [
        "class SGD:\n",
        "    def __init__(self, tensors, lr=0.001, momentum = 0.):\n",
        "        \"\"\"\n",
        "        tensors: array \n",
        "        use:\n",
        "            optim = SGD([model.l1, model.l2], lr = lr)\n",
        "            ...\n",
        "            optim.step() \n",
        "\n",
        "        momentum Nesterov implement use https://cs231n.github.io/neural-networks-3/\n",
        "        but I'm not sure right \n",
        "        \n",
        "        \"\"\"\n",
        "        self.lr = lr\n",
        "        self.tensors = tensors\n",
        "        self.v1 = 0.\n",
        "        self.v2 = 0.\n",
        "        self.mo = momentum\n",
        "        if self.mo < 0.0:\n",
        "            raise ValueError(\"Invalid momentum value: {}\".format(momentum))\n",
        "\n",
        "    \n",
        "    def nag(self, v, grad):\n",
        "        # Nesterov’s Accelerated Momentum (NAG)\n",
        "        v_prev = v \n",
        "        v = self.mo * v - self.lr * grad        \n",
        "        return v, -self.mo * v_prev + (1 + self.mo) * v\n",
        "\n",
        "\n",
        "    def step(self):\n",
        "        # momentum\n",
        "        if self.mo != 0.:\n",
        "            for t, v in zip(self.tensors, [self.v1, self.v2]):\n",
        "                v, upd =  self.nag(v, t.grad)\n",
        "                t.data +=  upd \n",
        "\n",
        "        for t in self.tensors:\n",
        "            t.data -= self.lr * t.grad  \n",
        "   \n",
        "\n",
        "\n",
        "class Adam:\n",
        "    # https://arxiv.org/pdf/1412.6980.pdf\n",
        "    def __init__(self,\n",
        "                 tensors,\n",
        "                 lr=1e-4,\n",
        "                 b1 = 0.9,\n",
        "                 b2 = 0.999,\n",
        "                 eps = 1e-8):     \n",
        "\n",
        "        self.lr = lr\n",
        "        self.tensors = tensors\n",
        "        self.b1 = b1\n",
        "        self.b2 = b2\n",
        "        self.eps = eps\n",
        "        self.groups = {}\n",
        "\n",
        "        # init param\n",
        "        self.m = [np.zeros_like(t.data) for t in self.tensors]\n",
        "        self.v = [np.zeros_like(t.data) for t in self.tensors]\n",
        "\n",
        "        self.t = 0\n",
        "\n",
        "\n",
        "    def step(self):\n",
        "        self.t += 1\n",
        "        for i, t in enumerate(self.tensors):\n",
        "            self.m[i] = self.b1 * self.m[i] + (1 - self.b1) * t.grad\n",
        "            self.v[i] = self.b2 * self.v[i] + (1 - self.b2) * np.square(t.grad)\n",
        "\n",
        "            m_hat = self.m[i] / (1. - self.b1 ** self.t)\n",
        "            v_hat = self.v[i] / (1. - self.b2 ** self.t)\n",
        "\n",
        "            t.data -= self.lr * m_hat / (np.sqrt(v_hat) + self.eps)\n",
        "      "
      ],
      "execution_count": 6,
      "outputs": []
    },
    {
      "cell_type": "code",
      "metadata": {
        "colab": {
          "base_uri": "https://localhost:8080/",
          "height": 354
        },
        "id": "hQ9tbxXGszCT",
        "outputId": "be050646-4816-4de5-d22a-be8e81d03464"
      },
      "source": [
        "# make nn\n",
        "class NN:\n",
        "    def __init__(self, l1, l2):\n",
        "        self.l1 = Tensor(l1)\n",
        "        self.l2 = Tensor(l2)\n",
        "\n",
        "    def forward(self, x):\n",
        "        x = x.dot(self.l1)\n",
        "        x = x.relu()\n",
        "        x = x.dot(self.l2)\n",
        "        return x.log_softmax()\n",
        "\n",
        "\n",
        "# init weight\n",
        "def weight_init(w: int, h: int , mode = 'gauss') -> np.array:\n",
        "    \"\"\"\n",
        "    w : columns, Width.\n",
        "    h : rows, Height.\n",
        "    mode : ['gaussian', 'uniform'] \n",
        "    https://discuss.pytorch.org/t/how-are-layer-weights-and-biases-initialized-by-default/13073   \n",
        "    \"\"\"\n",
        "    if mode == 'gauss':\n",
        "        w = np.random.randn(w, h) / np.sqrt(w*h)\n",
        "    else:\n",
        "        w = np.random.uniform(-1, 1, size = (w, h)) / np.sqrt(w*h)\n",
        "    return w.astype(np.float32)\n",
        "\n",
        "\n",
        "np.random.seed(13)\n",
        "lr = 0.001\n",
        "batch = 128\n",
        "l1 = weight_init(784, 128, mode = 'uniform')\n",
        "l2 = weight_init(128, 10, mode = 'uniform')\n",
        "\n",
        "model = NN(l1, l2)\n",
        "optim = SGD([model.l1, model.l2], momentum=0.7)  \n",
        "# optim = Adam([model.l1, model.l2])         \n",
        "\n",
        "\n",
        "bar = trange(500)\n",
        "accuracies, losses = [], []\n",
        "for i in bar:\n",
        "    samp = np.random.randint(0, x.shape[0], size=(batch))\n",
        "    X = Tensor(x[samp].reshape((-1, 28*28)))\n",
        "    Y = y[samp]\n",
        "    z = np.zeros((len(samp), 10))\n",
        "    z[range(z.shape[0]), Y] = 1\n",
        "    z = Tensor(z)\n",
        "\n",
        "    y_ = model.forward(X)\n",
        "    # mean\n",
        "    # x_loss = (-out * x_lsm).mean(axis=1)\n",
        "    p1 = y_.mul(z)\n",
        "    loss = p1.sum().mul(Tensor(np.array([-1/y_.data.size]))) # add minus\n",
        "    # set_trace()\n",
        "    loss.backward()\n",
        "    optim.step()\n",
        "\n",
        "    cat = np.argmax(y_.data, axis=1)\n",
        "    acc = (cat == Y).mean()\n",
        "    # SGD\n",
        "    # model.l1.data = model.l1.data - lr*model.l1.grad\n",
        "    # model.l2.data = model.l2.data - lr*model.l2.grad\n",
        "\n",
        "    # printing\n",
        "    loss = loss.data\n",
        "    losses.append(loss)\n",
        "    accuracies.append(acc)\n",
        "    bar.set_description('Loss:  %.3f, Accuracy: %.3f' % (loss, acc)) \n",
        "figsize(5, 5)\n",
        "plot(losses)\n",
        "plot(accuracies)"
      ],
      "execution_count": 7,
      "outputs": [
        {
          "output_type": "stream",
          "text": [
            "Loss:  0.040, Accuracy: 0.891: 100%|██████████| 500/500 [00:05<00:00, 85.18it/s]\n"
          ],
          "name": "stderr"
        },
        {
          "output_type": "execute_result",
          "data": {
            "text/plain": [
              "[<matplotlib.lines.Line2D at 0x7fee1d2c0e10>]"
            ]
          },
          "metadata": {
            "tags": []
          },
          "execution_count": 7
        },
        {
          "output_type": "display_data",
          "data": {
            "image/png": "[encoded data removed]",
            "text/plain": [
              "<Figure size 360x360 with 1 Axes>"
            ]
          },
          "metadata": {
            "tags": [],
            "needs_background": "light"
          }
        }
      ]
    },
    {
      "cell_type": "code",
      "metadata": {
        "colab": {
          "base_uri": "https://localhost:8080/"
        },
        "id": "0jlk0j5tAnkO",
        "outputId": "77f2c428-6ba5-47c8-8f94-3dd0014661be"
      },
      "source": [
        "model.l1.grad[65]\n"
      ],
      "execution_count": 8,
      "outputs": [
        {
          "output_type": "execute_result",
          "data": {
            "text/plain": [
              "array([0., 0., 0., 0., 0., 0., 0., 0., 0., 0., 0., 0., 0., 0., 0., 0., 0.,\n",
              "       0., 0., 0., 0., 0., 0., 0., 0., 0., 0., 0., 0., 0., 0., 0., 0., 0.,\n",
              "       0., 0., 0., 0., 0., 0., 0., 0., 0., 0., 0., 0., 0., 0., 0., 0., 0.,\n",
              "       0., 0., 0., 0., 0., 0., 0., 0., 0., 0., 0., 0., 0., 0., 0., 0., 0.,\n",
              "       0., 0., 0., 0., 0., 0., 0., 0., 0., 0., 0., 0., 0., 0., 0., 0., 0.,\n",
              "       0., 0., 0., 0., 0., 0., 0., 0., 0., 0., 0., 0., 0., 0., 0., 0., 0.,\n",
              "       0., 0., 0., 0., 0., 0., 0., 0., 0., 0., 0., 0., 0., 0., 0., 0., 0.,\n",
              "       0., 0., 0., 0., 0., 0., 0., 0., 0.])"
            ]
          },
          "metadata": {
            "tags": []
          },
          "execution_count": 8
        }
      ]
    },
    {
      "cell_type": "code",
      "metadata": {
        "colab": {
          "base_uri": "https://localhost:8080/",
          "height": 536
        },
        "id": "EgV8RrhTc-ud",
        "outputId": "15b88f94-eb7e-4025-cb77-9f0e2cf6d0f5"
      },
      "source": [
        "def vis_same_error(y_test_t, pred)-> None:\n",
        "\n",
        "    idx = np.argwhere(y_test_t.data != pred)\n",
        "    bad = x_test[idx]  \n",
        "    tmp = []\n",
        "    for _ in range(12):\n",
        "        tmp.append(np.random.randint(bad.shape[0]))\n",
        "    \n",
        "    figsize(10, 10)\n",
        "    imshow(np.concatenate(bad[tmp].reshape(4, 28*3, 28), axis = 1))\n",
        "    print('')\n",
        "    print('Predicted: ', pred[idx][tmp].ravel(), 'Target', y_test_t.data[idx][tmp].ravel())\n",
        "\n",
        "\n",
        "def evaluate(model, x, y)-> None:\n",
        "    y_= model.forward(x)\n",
        "    # print(y_.data.shape)\n",
        "    pred =  np.argmax(y_.data, axis =1)\n",
        "    acc = (y.data == pred).mean()\n",
        "    print('Accuracy model: ', acc)\n",
        "    print('Bad count: ', int(y.data.shape[0] * (1 - acc)))\n",
        "    vis_same_error(y_test_t, pred)\n",
        "\n",
        "\n",
        "x_test_t = Tensor(x_test.reshape(-1, 28*28))\n",
        "y_test_t = Tensor(y_test)\n",
        "evaluate(model, x_test_t, y_test_t)"
      ],
      "execution_count": 9,
      "outputs": [
        {
          "output_type": "stream",
          "text": [
            "Accuracy model:  0.929\n",
            "Bad count:  709\n",
            "\n",
            "Predicted:  [0 2 9 4 3 6 6 5 2 8 7 2] Target [8 5 4 2 5 5 5 8 5 2 8 7]\n"
          ],
          "name": "stdout"
        },
        {
          "output_type": "display_data",
          "data": {
            "image/png": "[encoded data removed]",
            "text/plain": [
              "<Figure size 720x720 with 1 Axes>"
            ]
          },
          "metadata": {
            "tags": [],
            "needs_background": "light"
          }
        }
      ]
    },
    {
      "cell_type": "markdown",
      "metadata": {
        "id": "wVdPs9NG97tG"
      },
      "source": [
        "# TODO\n",
        "\n",
        "### Part 1\n",
        "- make conv\n",
        "-~make adam~\n",
        "    - https://arxiv.org/pdf/1412.6980.pdf\n",
        "- ~make sgd~\n",
        "    - https://github.com/pytorch/pytorch/blob/master/torch/optim/_functional.py\n",
        "    - https://pytorch.org/docs/master/_modules/torch/optim/sgd.html#SGD\n",
        "    - https://cs231n.github.io/neural-networks-3/\n",
        "\n",
        "- make optim class\n",
        "\n",
        "### Part 2\n",
        "add simple compare test to torch"
      ]
    },
    {
      "cell_type": "code",
      "metadata": {
        "id": "2egATLdk7U_i"
      },
      "source": [
        "x1 = np.random.randn(2,3).astype(np.float32)\n",
        "w1 = np.random.randn(3,3).astype(np.float32)\n",
        "w2 = np.random.randn(2,3).astype(np.float32)\n",
        "\n",
        "def test_tinygrad():\n",
        "  x = Tensor(x1)\n",
        "  W = Tensor(w1)\n",
        "  m = Tensor(w2)\n",
        "  out = x.dot(W)\n",
        "  out = out.relu()\n",
        "  out = out.log_softmax()\n",
        "  out = out.mul(m)\n",
        "  out = out.add(m)\n",
        "  out = out.sum()\n",
        "  out.backward()\n",
        "  return out.data, x.grad, W.grad\n",
        "\n",
        "def test_pytorch():\n",
        "  x = torch.tensor(x1, requires_grad=True)\n",
        "  W = torch.tensor(w1, requires_grad=True)\n",
        "  m = torch.tensor(w2, requires_grad=True)\n",
        "  out = x.matmul(W)\n",
        "  out = out.relu()\n",
        "  out = torch.nn.functional.log_softmax(out, dim=1)\n",
        "  out = out.mul(m)\n",
        "  out = out.add(m)\n",
        "  out = out.sum()\n",
        "  out.backward()\n",
        "  return out.detach().numpy(), x.grad, W.grad\n"
      ],
      "execution_count": 70,
      "outputs": []
    },
    {
      "cell_type": "code",
      "metadata": {
        "colab": {
          "base_uri": "https://localhost:8080/"
        },
        "id": "V91lTq887WDb",
        "outputId": "38c7ca87-48a8-4bf4-ecef-0000b0c84ddc"
      },
      "source": [
        "test_pytorch()"
      ],
      "execution_count": 71,
      "outputs": [
        {
          "output_type": "execute_result",
          "data": {
            "text/plain": [
              "(array(-1.4084922, dtype=float32), tensor([[ 2.6250,  1.8666,  2.3886],\n",
              "         [-1.4455, -1.5841,  0.6436]]), tensor([[-0.5958,  0.0630,  0.5544],\n",
              "         [-2.4879,  2.8627, -0.0398],\n",
              "         [ 1.3165, -1.6066,  0.1042]]))"
            ]
          },
          "metadata": {
            "tags": []
          },
          "execution_count": 71
        }
      ]
    },
    {
      "cell_type": "code",
      "metadata": {
        "colab": {
          "base_uri": "https://localhost:8080/"
        },
        "id": "KEE-eFJ37hy1",
        "outputId": "1597660e-ef1a-4ddf-e816-f022e04a9437"
      },
      "source": [
        "test_tinygrad()"
      ],
      "execution_count": 72,
      "outputs": [
        {
          "output_type": "execute_result",
          "data": {
            "text/plain": [
              "(array([-1.4084916], dtype=float32),\n",
              " array([[ 6.672998 ,  7.618008 ,  5.0603166],\n",
              "        [-2.2373211, -2.509002 , -0.8206721]], dtype=float32),\n",
              " array([[ 0.02793175,  2.1538079 ,  0.2804673 ],\n",
              "        [ 0.11663995, 13.228693  , -0.02013244],\n",
              "        [-0.06172271, -7.149802  ,  0.05272247]], dtype=float32))"
            ]
          },
          "metadata": {
            "tags": []
          },
          "execution_count": 72
        }
      ]
    }
  ]
}