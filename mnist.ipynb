{
  "nbformat": 4,
  "nbformat_minor": 0,
  "metadata": {
    "colab": {
      "name": "mnist.ipynb",
      "provenance": [],
      "collapsed_sections": [
        "7vWphMve5qX5",
        "OwQMiYsWA2JG"
      ],
      "authorship_tag": "ABX9TyPltEg2vmp5QIp291/Bv/yo"
    },
    "kernelspec": {
      "name": "python3",
      "display_name": "Python 3"
    }
  },
  "cells": [
    {
      "cell_type": "code",
      "metadata": {
        "colab": {
          "base_uri": "https://localhost:8080/"
        },
        "id": "QCih6XBuV7Qy",
        "outputId": "4fc9ab84-2618-416d-90ad-54f9b05d3fb4"
      },
      "source": [
        "import torch \n",
        "import torch.nn as nn\n",
        "import torch.nn.functional as F\n",
        "import numpy as np\n",
        "import torchvision\n",
        "from tqdm import trange\n",
        "\n",
        "%pylab inline"
      ],
      "execution_count": null,
      "outputs": [
        {
          "output_type": "stream",
          "text": [
            "Populating the interactive namespace from numpy and matplotlib\n"
          ],
          "name": "stdout"
        }
      ]
    },
    {
      "cell_type": "markdown",
      "metadata": {
        "id": "uj8dz4HxYtzC"
      },
      "source": [
        "# Load data MNIST"
      ]
    },
    {
      "cell_type": "code",
      "metadata": {
        "id": "ywsAaipEWyJh",
        "colab": {
          "base_uri": "https://localhost:8080/"
        },
        "outputId": "73e99937-049f-4614-89b8-199aba77de11"
      },
      "source": [
        "train = torchvision.datasets.MNIST(\n",
        "                                   root = '/content/',\n",
        "                                   train =True, \n",
        "                                   transform = None,\n",
        "                                   download = True,\n",
        "                                   target_transform =None\n",
        "                                   )\n",
        "test = torchvision.datasets.MNIST(\n",
        "                                   root = '/content/',\n",
        "                                   train =False, \n",
        "                                   transform = None,\n",
        "                                   download = True,\n",
        "                                   target_transform =None\n",
        "                                   )\n",
        "train.data.shape, train.targets.shape, test.data.shape"
      ],
      "execution_count": null,
      "outputs": [
        {
          "output_type": "execute_result",
          "data": {
            "text/plain": [
              "(torch.Size([60000, 28, 28]), torch.Size([60000]), torch.Size([10000, 28, 28]))"
            ]
          },
          "metadata": {
            "tags": []
          },
          "execution_count": 2
        }
      ]
    },
    {
      "cell_type": "code",
      "metadata": {
        "id": "ryy9-ANZYQzU"
      },
      "source": [
        "x = train.data\n",
        "y = train.targets\n",
        "#------------\n",
        "x_test = test.data\n",
        "y_test = test.targets"
      ],
      "execution_count": null,
      "outputs": []
    },
    {
      "cell_type": "markdown",
      "metadata": {
        "id": "wsmI-gyZcEpW"
      },
      "source": [
        "# NN"
      ]
    },
    {
      "cell_type": "code",
      "metadata": {
        "id": "UXzhruzCbKAd"
      },
      "source": [
        "class Net(nn.Module):\n",
        "    \n",
        "    def __init__(self):\n",
        "        super(Net, self).__init__()\n",
        "        # torch.nn.Linear(in_features: int, out_features: int, bias: bool = True)\n",
        "        self.l1 = nn.Linear(784, 128)\n",
        "        self.act = nn.ReLU()\n",
        "        self.l2 = nn.Linear(128, 10)\n",
        "    def forward(self, x):\n",
        "        x = self.l1(x)\n",
        "        x = self.act(x)\n",
        "        x = self.l2(x)\n",
        "        return x"
      ],
      "execution_count": null,
      "outputs": []
    },
    {
      "cell_type": "code",
      "metadata": {
        "colab": {
          "base_uri": "https://localhost:8080/",
          "height": 354
        },
        "id": "v-hF9H1DkM9y",
        "outputId": "e63aa275-27c0-4af0-dc66-673c9115e411"
      },
      "source": [
        "model = Net()\n",
        "batch = 32\n",
        "losses, accuracies = [], []\n",
        "loss_func = nn.CrossEntropyLoss()\n",
        "optim = torch.optim.Adam(model.parameters())\n",
        "bar = trange(100)\n",
        "for i in bar:\n",
        "    samp = np.random.randint(0, x.shape[0], size = batch)\n",
        "    X = x[samp].reshape(-1, 28*28).float()\n",
        "    Y = y[samp].long()\n",
        "    optim.zero_grad()\n",
        "    out = model(X)\n",
        "    cat = torch.argmax(out, dim=1)\n",
        "    accuracy = (cat == Y).float().mean()\n",
        "    loss = loss_func(out, Y)\n",
        "    loss.backward()\n",
        "    optim.step()\n",
        "    loss, acc =  loss.item(), accuracy.item()\n",
        "    losses.append(loss)\n",
        "    accuracies.append(acc)\n",
        "    bar.set_description('Loss:  %.3f, Accuracy: %.3f' % (loss, acc))\n",
        "\n",
        "figsize(5, 5)\n",
        "plot(losses)\n",
        "plot(accuracies)"
      ],
      "execution_count": null,
      "outputs": [
        {
          "output_type": "stream",
          "text": [
            "Loss:  0.854, Accuracy: 0.844: 100%|██████████| 100/100 [00:00<00:00, 179.26it/s]\n"
          ],
          "name": "stderr"
        },
        {
          "output_type": "execute_result",
          "data": {
            "text/plain": [
              "[<matplotlib.lines.Line2D at 0x7fba71b27d68>]"
            ]
          },
          "metadata": {
            "tags": []
          },
          "execution_count": 5
        },
        {
          "output_type": "display_data",
          "data": {
            "image/png": "[encoded data removed]",
            "text/plain": [
              "<Figure size 360x360 with 1 Axes>"
            ]
          },
          "metadata": {
            "tags": [],
            "needs_background": "light"
          }
        }
      ]
    },
    {
      "cell_type": "code",
      "metadata": {
        "colab": {
          "base_uri": "https://localhost:8080/"
        },
        "id": "mZ2CUogpkNB5",
        "outputId": "5ca0eb9f-ae93-4d0d-81fa-da2c6091e656"
      },
      "source": [
        "# make predict\n",
        "y_= model(x_test.reshape(-1, 28*28).float())\n",
        "pred =  torch.argmax(y_, dim =1)\n",
        "(y_test == pred).float().mean()"
      ],
      "execution_count": null,
      "outputs": [
        {
          "output_type": "execute_result",
          "data": {
            "text/plain": [
              "tensor(0.8199)"
            ]
          },
          "metadata": {
            "tags": []
          },
          "execution_count": 6
        }
      ]
    },
    {
      "cell_type": "markdown",
      "metadata": {
        "id": "yVB2Nl9j30K4"
      },
      "source": [
        "# Numpy"
      ]
    },
    {
      "cell_type": "code",
      "metadata": {
        "id": "TAoPk_Mdz14P"
      },
      "source": [
        "# copy weight model to numpy\n",
        "l1 = model.l1.weight.detach().numpy().T # 784 * 128\n",
        "l2 = model.l2.weight.detach().numpy().T # 128 * 10"
      ],
      "execution_count": null,
      "outputs": []
    },
    {
      "cell_type": "code",
      "metadata": {
        "colab": {
          "base_uri": "https://localhost:8080/"
        },
        "id": "I_l2U4dsz163",
        "outputId": "017938c7-84ed-40d1-900d-90be05ab4b21"
      },
      "source": [
        "# train\n",
        "def forward(x: np.array)-> np.array:    \n",
        "    x = x.dot(l1)    \n",
        "    x = np.maximum(x, 0)    \n",
        "    x = x.dot(l2)    \n",
        "    return x\n",
        "\n",
        "# evaluate\n",
        "def evaluate(model)-> None:\n",
        "    y_= model(x_test.reshape(-1, 28*28).numpy())\n",
        "    pred =  np.argmax(y_, axis =1)\n",
        "    print((y_test.numpy() == pred).mean())\n",
        "evaluate(forward)"
      ],
      "execution_count": null,
      "outputs": [
        {
          "output_type": "stream",
          "text": [
            "0.8193\n"
          ],
          "name": "stdout"
        }
      ]
    },
    {
      "cell_type": "markdown",
      "metadata": {
        "id": "YPbm2HfaFxBs"
      },
      "source": [
        "CROSSENTROPYLOSS\n",
        "\n",
        "$$loss(x, class) = -x[class] + \\log(\\sum\\exp(x[j]))$$"
      ]
    },
    {
      "cell_type": "code",
      "metadata": {
        "colab": {
          "base_uri": "https://localhost:8080/"
        },
        "id": "M1KHf4gGFx5c",
        "outputId": "2755574f-ea83-4f7c-945e-63c1d29c18c0"
      },
      "source": [
        "y_= forward(x_test.reshape(-1, 28*28).numpy())\n",
        "pred =  np.argmax(y_, axis =1)\n",
        "\n",
        "part2 = np.log(np.exp(y_).sum(axis = 1))\n",
        "# for each pred for current mark\n",
        "part1 = y_[range(y_.shape[0]), y_test]\n",
        "ret = -part1 + part2\n",
        "ret.mean()"
      ],
      "execution_count": null,
      "outputs": [
        {
          "output_type": "execute_result",
          "data": {
            "text/plain": [
              "1.037738"
            ]
          },
          "metadata": {
            "tags": []
          },
          "execution_count": 9
        }
      ]
    },
    {
      "cell_type": "code",
      "metadata": {
        "colab": {
          "base_uri": "https://localhost:8080/"
        },
        "id": "8eaSroDWCgJH",
        "outputId": "2d829fb9-0fe9-4ab7-94bb-258d8befc454"
      },
      "source": [
        "loss_func(torch.tensor(y_), torch.tensor(y_test))"
      ],
      "execution_count": null,
      "outputs": [
        {
          "output_type": "stream",
          "text": [
            "/usr/local/lib/python3.6/dist-packages/ipykernel_launcher.py:1: UserWarning: To copy construct from a tensor, it is recommended to use sourceTensor.clone().detach() or sourceTensor.clone().detach().requires_grad_(True), rather than torch.tensor(sourceTensor).\n",
            "  \"\"\"Entry point for launching an IPython kernel.\n"
          ],
          "name": "stderr"
        },
        {
          "output_type": "execute_result",
          "data": {
            "text/plain": [
              "tensor(1.0377)"
            ]
          },
          "metadata": {
            "tags": []
          },
          "execution_count": 10
        }
      ]
    },
    {
      "cell_type": "markdown",
      "metadata": {
        "id": "fU86rRdNK1KE"
      },
      "source": [
        "#Visual loss"
      ]
    },
    {
      "cell_type": "code",
      "metadata": {
        "colab": {
          "base_uri": "https://localhost:8080/",
          "height": 337
        },
        "id": "y2_hS5fqJmwT",
        "outputId": "73025b85-f2cf-4a95-ecdf-5248c2c78bd9"
      },
      "source": [
        "m = np.argmin(ret)\n",
        "imshow(x_test[m])"
      ],
      "execution_count": null,
      "outputs": [
        {
          "output_type": "execute_result",
          "data": {
            "text/plain": [
              "<matplotlib.image.AxesImage at 0x7fba705e9438>"
            ]
          },
          "metadata": {
            "tags": []
          },
          "execution_count": 11
        },
        {
          "output_type": "display_data",
          "data": {
            "image/png": "[encoded data removed]",
            "text/plain": [
              "<Figure size 360x360 with 1 Axes>"
            ]
          },
          "metadata": {
            "tags": [],
            "needs_background": "light"
          }
        }
      ]
    },
    {
      "cell_type": "code",
      "metadata": {
        "colab": {
          "base_uri": "https://localhost:8080/",
          "height": 337
        },
        "id": "sZLx5SWyJmtu",
        "outputId": "6c494360-4fe3-47ce-8020-0b28cb8496cb"
      },
      "source": [
        "m = np.argmax(ret)\n",
        "imshow(x_test[m])"
      ],
      "execution_count": null,
      "outputs": [
        {
          "output_type": "execute_result",
          "data": {
            "text/plain": [
              "<matplotlib.image.AxesImage at 0x7fba6e551a20>"
            ]
          },
          "metadata": {
            "tags": []
          },
          "execution_count": 12
        },
        {
          "output_type": "display_data",
          "data": {
            "image/png": "[encoded data removed]",
            "text/plain": [
              "<Figure size 360x360 with 1 Axes>"
            ]
          },
          "metadata": {
            "tags": [],
            "needs_background": "light"
          }
        }
      ]
    },
    {
      "cell_type": "code",
      "metadata": {
        "colab": {
          "base_uri": "https://localhost:8080/",
          "height": 502
        },
        "id": "BHWqiaZUO4ls",
        "outputId": "64c58e0d-55c4-42db-8894-143b02ae69b3"
      },
      "source": [
        "idx = np.argwhere((y_test.numpy() != pred))\n",
        "x_bad = x_test[idx].numpy()\n",
        "bad = x_bad[:12]\n",
        "figsize(10,10)\n",
        "imshow(np.concatenate(bad.reshape((4, 28*3, 28)), axis = 1))\n",
        "pred[idx][:12].ravel(), y_test[idx][:12].numpy().ravel()"
      ],
      "execution_count": null,
      "outputs": [
        {
          "output_type": "execute_result",
          "data": {
            "text/plain": [
              "(array([4, 2, 7, 2, 7, 4, 6, 3, 9, 7, 1, 4]),\n",
              " array([9, 5, 9, 3, 9, 6, 4, 5, 4, 9, 5, 9]))"
            ]
          },
          "metadata": {
            "tags": []
          },
          "execution_count": 13
        },
        {
          "output_type": "display_data",
          "data": {
            "image/png": "[encoded data removed]",
            "text/plain": [
              "<Figure size 720x720 with 1 Axes>"
            ]
          },
          "metadata": {
            "tags": [],
            "needs_background": "light"
          }
        }
      ]
    },
    {
      "cell_type": "markdown",
      "metadata": {
        "id": "7vWphMve5qX5"
      },
      "source": [
        "# Derivative"
      ]
    },
    {
      "cell_type": "markdown",
      "metadata": {
        "id": "PYuveDtGBJoo"
      },
      "source": [
        "retain_graph = True\n",
        "- По сути, он сохранит всю необходимую информацию для вычисления определенной переменной, чтобы мы могли выполнить обратный проход по ней.\n",
        "\n",
        "Will store all the information needed to compute a particular variable so that we can traverse it back."
      ]
    },
    {
      "cell_type": "code",
      "metadata": {
        "colab": {
          "base_uri": "https://localhost:8080/"
        },
        "id": "JRN_YLBr-ob5",
        "outputId": "080550b4-1ce8-46c8-ad89-be5df76263b6"
      },
      "source": [
        "samp = [0, 1,2,3]\n",
        "X = x[samp].reshape(-1, 28*28).float()\n",
        "Y = y[samp].long()\n",
        "optim.zero_grad()\n",
        "out = model(X)\n",
        "out.retain_grad()\n",
        "loss = loss_func(out, Y)\n",
        "loss.retain_grad()\n",
        "loss.backward()\n",
        "\n",
        "# nice idea visual data\n",
        "figsize(12, 12)\n",
        "imshow(model.l1.weight.grad)\n",
        "figure()\n",
        "imshow(model.l2.weight.grad)"
      ],
      "execution_count": null,
      "outputs": [
        {
          "output_type": "execute_result",
          "data": {
            "text/plain": [
              "<matplotlib.image.AxesImage at 0x7fba6e4e2828>"
            ]
          },
          "metadata": {
            "tags": []
          },
          "execution_count": 14
        },
        {
          "output_type": "display_data",
          "data": {
            "image/png": "[encoded data removed]",
            "text/plain": [
              "<Figure size 864x864 with 1 Axes>"
            ]
          },
          "metadata": {
            "tags": [],
            "needs_background": "light"
          }
        },
        {
          "output_type": "display_data",
          "data": {
            "image/png": "[encoded data removed]",
            "text/plain": [
              "<Figure size 864x864 with 1 Axes>"
            ]
          },
          "metadata": {
            "tags": [],
            "needs_background": "light"
          }
        }
      ]
    },
    {
      "cell_type": "code",
      "metadata": {
        "colab": {
          "base_uri": "https://localhost:8080/"
        },
        "id": "V88rgsL00R1m",
        "outputId": "5a357982-fc21-437b-dc4d-a875e15d8a43"
      },
      "source": [
        "samp = [0, 1,2,3]\n",
        "X = x[samp].reshape(-1, 28*28).float()\n",
        "Y = y[samp].long()\n",
        "optim.zero_grad()\n",
        "out = model(X)\n",
        "print(model.l2.weight.grad)\n",
        "loss = loss_func(out, Y)\n",
        "loss.backward()\n",
        "print(model.l2.weight.grad)"
      ],
      "execution_count": null,
      "outputs": [
        {
          "output_type": "stream",
          "text": [
            "tensor([[0., 0., 0.,  ..., 0., 0., 0.],\n",
            "        [0., 0., 0.,  ..., 0., 0., 0.],\n",
            "        [0., 0., 0.,  ..., 0., 0., 0.],\n",
            "        ...,\n",
            "        [0., 0., 0.,  ..., 0., 0., 0.],\n",
            "        [0., 0., 0.,  ..., 0., 0., 0.],\n",
            "        [0., 0., 0.,  ..., 0., 0., 0.]])\n",
            "tensor([[ 5.7836e-05,  0.0000e+00,  0.0000e+00,  ...,  4.9476e-04,\n",
            "          0.0000e+00,  0.0000e+00],\n",
            "        [-3.0485e-02,  0.0000e+00,  0.0000e+00,  ...,  3.7277e-10,\n",
            "          0.0000e+00,  0.0000e+00],\n",
            "        [ 3.3311e-04,  0.0000e+00,  0.0000e+00,  ...,  2.8278e-04,\n",
            "          0.0000e+00,  0.0000e+00],\n",
            "        ...,\n",
            "        [ 3.1717e-05,  0.0000e+00,  0.0000e+00,  ...,  2.7129e-04,\n",
            "          0.0000e+00,  0.0000e+00],\n",
            "        [ 8.6723e-05,  0.0000e+00,  0.0000e+00,  ...,  5.4288e-08,\n",
            "          0.0000e+00,  0.0000e+00],\n",
            "        [ 5.6416e-06,  0.0000e+00,  0.0000e+00,  ...,  2.6545e-05,\n",
            "          0.0000e+00,  0.0000e+00]])\n"
          ],
          "name": "stdout"
        }
      ]
    },
    {
      "cell_type": "markdown",
      "metadata": {
        "id": "OwQMiYsWA2JG"
      },
      "source": [
        "# softmax, log softmax, and NLL"
      ]
    },
    {
      "cell_type": "code",
      "metadata": {
        "colab": {
          "base_uri": "https://localhost:8080/"
        },
        "id": "69wqXDlNxpfn",
        "outputId": "2ab0168a-ef89-451c-e188-a9d6dad7bd8e"
      },
      "source": [
        "data = torch.randn(4, 10)\n",
        "tr = torch.randint(10, size = (4, )).long()\n",
        "data,  tr"
      ],
      "execution_count": null,
      "outputs": [
        {
          "output_type": "execute_result",
          "data": {
            "text/plain": [
              "(tensor([[ 0.3373, -1.6377,  0.4861, -0.7869, -2.6035,  0.9390,  0.5444,  0.5509,\n",
              "           0.8709, -0.6269],\n",
              "         [-1.1598, -1.4426, -1.1007,  1.4467,  0.0531, -0.8787, -0.6854,  0.5158,\n",
              "          -1.7392,  0.6283],\n",
              "         [ 1.1539,  0.7221, -1.1378,  0.3056,  2.2992,  1.2791, -0.6670,  1.2007,\n",
              "           0.6014,  0.0834],\n",
              "         [-1.4266, -0.5874,  0.8307,  1.2288,  0.2074,  0.4493,  1.0908, -0.3545,\n",
              "           0.1501, -0.2754]]), tensor([7, 3, 6, 1]))"
            ]
          },
          "metadata": {
            "tags": []
          },
          "execution_count": 16
        }
      ]
    },
    {
      "cell_type": "code",
      "metadata": {
        "colab": {
          "base_uri": "https://localhost:8080/"
        },
        "id": "lJb5w0Myxpcw",
        "outputId": "cdc10d66-8eea-4599-b8d5-aadaecac0916"
      },
      "source": [
        "def softmax(x):\n",
        "    return x.exp() / (x.exp().sum(-1)).unsqueeze(-1)\n",
        "def nl(prd, tr):\n",
        "    return - prd[range(tr.shape[0]), tr].log().mean()\n",
        "\n",
        "prd = softmax(data)\n",
        "loss = nl(prd, tr)\n",
        "loss"
      ],
      "execution_count": null,
      "outputs": [
        {
          "output_type": "execute_result",
          "data": {
            "text/plain": [
              "tensor(2.5463)"
            ]
          },
          "metadata": {
            "tags": []
          },
          "execution_count": 17
        }
      ]
    },
    {
      "cell_type": "code",
      "metadata": {
        "colab": {
          "base_uri": "https://localhost:8080/"
        },
        "id": "mOSBCaKvxpZ5",
        "outputId": "1d90f248-361a-4ebc-e14a-6c542800194a"
      },
      "source": [
        "prd = F.log_softmax(data, dim=-1)\n",
        "loss = F.nll_loss(prd, tr)\n",
        "loss"
      ],
      "execution_count": null,
      "outputs": [
        {
          "output_type": "execute_result",
          "data": {
            "text/plain": [
              "tensor(2.5463)"
            ]
          },
          "metadata": {
            "tags": []
          },
          "execution_count": 18
        }
      ]
    },
    {
      "cell_type": "code",
      "metadata": {
        "colab": {
          "base_uri": "https://localhost:8080/"
        },
        "id": "J6CPgKX3xpSt",
        "outputId": "5cad7ca2-490d-42ea-87eb-fe10223cde0c"
      },
      "source": [
        "def log_softmax(x):\n",
        "    return x - (x.exp().sum(-1).log()).unsqueeze(-1)\n",
        "def nll(prd, tr):\n",
        "    return - prd[range(tr.shape[0]), tr].mean()\n",
        "\n",
        "prd = log_softmax(data)\n",
        "loss = nll(prd, tr)\n",
        "loss"
      ],
      "execution_count": null,
      "outputs": [
        {
          "output_type": "execute_result",
          "data": {
            "text/plain": [
              "tensor(2.5463)"
            ]
          },
          "metadata": {
            "tags": []
          },
          "execution_count": 19
        }
      ]
    },
    {
      "cell_type": "code",
      "metadata": {
        "colab": {
          "base_uri": "https://localhost:8080/"
        },
        "id": "33KL4AzyxpQX",
        "outputId": "ded06fa7-e9a2-4485-f14e-1a17b7b6a67c"
      },
      "source": [
        "F.cross_entropy(data, tr)"
      ],
      "execution_count": null,
      "outputs": [
        {
          "output_type": "execute_result",
          "data": {
            "text/plain": [
              "tensor(2.5463)"
            ]
          },
          "metadata": {
            "tags": []
          },
          "execution_count": 20
        }
      ]
    },
    {
      "cell_type": "code",
      "metadata": {
        "colab": {
          "base_uri": "https://localhost:8080/"
        },
        "id": "47jwoky6QiOp",
        "outputId": "ff9f90ce-5ba1-48c2-aff2-5937745920e0"
      },
      "source": [
        "def log_softmax_npy(x):\n",
        "    # np.exp is not stable because it has Inf. So you should subtract maximum in x.\n",
        "    # http://gregorygundersen.com/blog/2020/02/09/log-sum-exp/\n",
        "    # x numpy   \n",
        "    mx = x.max(axis=1)\n",
        "    stbl = mx + np.log(np.exp(x- mx.reshape((-1, 1))).sum(axis=1))\n",
        "    return x - stbl.reshape(-1,1)\n",
        "\n",
        "\n",
        "prd = log_softmax_npy(data.numpy())\n",
        "nll(torch.tensor(prd), tr)"
      ],
      "execution_count": null,
      "outputs": [
        {
          "output_type": "execute_result",
          "data": {
            "text/plain": [
              "tensor(2.5463)"
            ]
          },
          "metadata": {
            "tags": []
          },
          "execution_count": 21
        }
      ]
    },
    {
      "cell_type": "markdown",
      "metadata": {
        "id": "c-nPaAuR7i2C"
      },
      "source": [
        "# Backward numpy test"
      ]
    },
    {
      "cell_type": "code",
      "metadata": {
        "colab": {
          "base_uri": "https://localhost:8080/"
        },
        "id": "ysH2Yf6o8DEz",
        "outputId": "83561131-4e5c-48d9-c1bd-fe7f9481f8dc"
      },
      "source": [
        "# for test take weoght from model\n",
        "l1 = model.l1.weight.detach().numpy().T\n",
        "l2 = model.l2.weight.detach().numpy().T\n",
        "l1.shape, l2.shape"
      ],
      "execution_count": null,
      "outputs": [
        {
          "output_type": "execute_result",
          "data": {
            "text/plain": [
              "((784, 128), (128, 10))"
            ]
          },
          "metadata": {
            "tags": []
          },
          "execution_count": 22
        }
      ]
    },
    {
      "cell_type": "code",
      "metadata": {
        "id": "nYFoEQbGxpOE"
      },
      "source": [
        "# train\n",
        "x_sample = x[samp].reshape(-1, 28*28).float().numpy()\n",
        "out = np.zeros((len(Y),10), np.float32)\n",
        "out[range(out.shape[0]),Y] = 1\n",
        "\n",
        "\n",
        "x_l1 = x_sample.dot(l1)\n",
        "x_relu = np.maximum(x_l1, 0)\n",
        "x_l2 = x_relu.dot(l2)\n",
        "x_lsm = log_softmax_npy(x_l2)\n",
        "x_loss = (-out * x_lsm).mean(axis=1)"
      ],
      "execution_count": null,
      "outputs": []
    },
    {
      "cell_type": "markdown",
      "metadata": {
        "id": "0lEVzSxz49tE"
      },
      "source": [
        "backward function softmax:\n",
        "\n",
        "$$y_j(g_j - \\sum y_k*g_k)$$\n",
        "\n",
        "np.exp(x - logsumexp(x))\n",
        "\n",
        "https://sgugger.github.io/a-simple-neural-net-in-numpy.html"
      ]
    },
    {
      "cell_type": "code",
      "metadata": {
        "colab": {
          "base_uri": "https://localhost:8080/",
          "height": 263
        },
        "id": "kiYzQQWe478r",
        "outputId": "31ebd297-02df-4ee3-8098-0a4e8074b6fb"
      },
      "source": [
        "# compute the gradient\n",
        "d_out = -out / len(Y)\n",
        "\n",
        "dx_lsm = d_out - np.exp(x_lsm)*d_out.sum(axis=1).reshape((-1, 1))\n",
        "d_l2 = x_relu.T.dot(dx_lsm)\n",
        "\n",
        "dx_relu = dx_lsm.dot(l2.T)\n",
        "\n",
        "dx_l1 = (x_relu > 0).astype(np.float32) * dx_relu\n",
        "d_l1 = x_sample.T.dot(dx_l1)\n",
        "\n",
        "imshow(d_l2.T)\n",
        "figure()\n",
        "imshow(d_l1.T)"
      ],
      "execution_count": null,
      "outputs": [
        {
          "output_type": "execute_result",
          "data": {
            "text/plain": [
              "<matplotlib.image.AxesImage at 0x7fba6e420e80>"
            ]
          },
          "metadata": {
            "tags": []
          },
          "execution_count": 24
        },
        {
          "output_type": "display_data",
          "data": {
            "image/png": "[encoded data removed]",
            "text/plain": [
              "<Figure size 864x864 with 1 Axes>"
            ]
          },
          "metadata": {
            "tags": [],
            "needs_background": "light"
          }
        },
        {
          "output_type": "display_data",
          "data": {
            "image/png": "[encoded data removed]",
            "text/plain": [
              "<Figure size 864x864 with 1 Axes>"
            ]
          },
          "metadata": {
            "tags": [],
            "needs_background": "light"
          }
        }
      ]
    },
    {
      "cell_type": "markdown",
      "metadata": {
        "id": "G_mLlcbo5VC1"
      },
      "source": [
        "https://zhang-yang.medium.com/understanding-cross-entropy-implementation-in-pytorch-softmax-log-softmax-nll-cross-entropy-416a2b200e34\n",
        "\n",
        "https://deepnotes.io/softmax-crossentropy\n",
        "\n",
        "https://sgugger.github.io/a-simple-neural-net-in-numpy.html\n",
        "\n",
        "https://github.com/eliben/deep-learning-samples/blob/master/softmax/softmax.py\n",
        "\n",
        "https://cs231n.github.io/neural-networks-case-study/"
      ]
    },
    {
      "cell_type": "code",
      "metadata": {
        "colab": {
          "base_uri": "https://localhost:8080/",
          "height": 263
        },
        "id": "wypOiqRo7eDe",
        "outputId": "ce75cae2-791a-49ec-820d-98c606b09c63"
      },
      "source": [
        "def backward(x: np.array, y: np.array, l1: np.array, l2: np.array) -> np.array:\n",
        "    \n",
        "    out = np.zeros((len(y),10), np.float32)\n",
        "    out[range(out.shape[0]),y] = 1\n",
        "    x_l1 = x.dot(l1)\n",
        "    x_relu = np.maximum(x_l1, 0)\n",
        "    x_l2 = x_relu.dot(l2)\n",
        "    x_lsm = log_softmax_npy(x_l2)\n",
        "    x_loss = (-out * x_lsm).mean(axis=1)\n",
        "\n",
        "    # compute the gradient\n",
        "    d_out = -out / len(y)\n",
        "    # l2\n",
        "    dx_lsm = d_out - np.exp(x_lsm)*d_out.sum(axis=1).reshape((-1, 1))\n",
        "    d_l2 = x_relu.T.dot(dx_lsm)\n",
        "    # relu\n",
        "    dx_relu = dx_lsm.dot(l2.T)\n",
        "    # l1\n",
        "    dx_l1 = (x_relu > 0).astype(np.float32) * dx_relu\n",
        "    d_l1 = x.T.dot(dx_l1)\n",
        "    return x_loss, x_l2, d_l1, d_l2\n",
        "\n",
        "\n",
        "samp = [0, 1,2,3]\n",
        "X = x[samp].reshape(-1, 28*28).float().numpy()\n",
        "Y = y[samp].long()\n",
        "\n",
        "x_loss, x_l2, d_l1, d_l2 = backward(X, Y.numpy(), l1, l2)\n",
        "imshow(d_l2.T)\n",
        "figure()\n",
        "imshow(d_l1.T)"
      ],
      "execution_count": null,
      "outputs": [
        {
          "output_type": "execute_result",
          "data": {
            "text/plain": [
              "<matplotlib.image.AxesImage at 0x7fba6e361470>"
            ]
          },
          "metadata": {
            "tags": []
          },
          "execution_count": 25
        },
        {
          "output_type": "display_data",
          "data": {
            "image/png": "[encoded data removed]",
            "text/plain": [
              "<Figure size 864x864 with 1 Axes>"
            ]
          },
          "metadata": {
            "tags": [],
            "needs_background": "light"
          }
        },
        {
          "output_type": "display_data",
          "data": {
            "image/png": "[encoded data removed]",
            "text/plain": [
              "<Figure size 864x864 with 1 Axes>"
            ]
          },
          "metadata": {
            "tags": [],
            "needs_background": "light"
          }
        }
      ]
    },
    {
      "cell_type": "markdown",
      "metadata": {
        "id": "99UKzhtuZLzn"
      },
      "source": [
        "# Init weight"
      ]
    },
    {
      "cell_type": "markdown",
      "metadata": {
        "id": "a_QdSze2F-z7"
      },
      "source": [
        "Основная идея общего правила заключается в том, чтобы инициализировать веса, не будучи слишком маленькими, но близкими к 0 в диапазоне [-y, y], где y = 1 / sqrt (n) (n - количество входов, переданных нейрону)\n",
        "\n",
        "The main idea of the general rule is to initialize the weights without being too small, but close to 0 in the range [-y, y], where y = 1 / sqrt (n) (n is the number of inputs passed to the neuron)"
      ]
    },
    {
      "cell_type": "code",
      "metadata": {
        "id": "0fwmp8WdF90v",
        "colab": {
          "base_uri": "https://localhost:8080/"
        },
        "outputId": "4bc38820-afb4-4197-c36b-cd2993af9d9f"
      },
      "source": [
        "xx = torch.randn((4, 786))\n",
        "w1 = torch.randn((786,128))\n",
        "b1 = torch.randn(128)\n",
        "\n",
        "# dot not work\n",
        "l1 = torch.mm(xx, w1) + b1\n",
        "l1.mean(), l1.std()"
      ],
      "execution_count": null,
      "outputs": [
        {
          "output_type": "execute_result",
          "data": {
            "text/plain": [
              "(tensor(-0.5356), tensor(27.1214))"
            ]
          },
          "metadata": {
            "tags": []
          },
          "execution_count": 26
        }
      ]
    },
    {
      "cell_type": "code",
      "metadata": {
        "colab": {
          "base_uri": "https://localhost:8080/"
        },
        "id": "sZTYpJbPcqVs",
        "outputId": "6dca7e20-868d-4ec7-aafe-42b55f1401df"
      },
      "source": [
        "w1 = torch.randn((786,128)) * np.sqrt(2. / 786)\n",
        "\n",
        "def relu(x: np.array) -> np.array:\n",
        "    \"\"\"\n",
        "    a = torch.tensor([-1, 0, -1, 1,2])\n",
        "    torch.clamp(a, min =0)\n",
        "    \n",
        "    >> tensor([0, 0, 0, 1, 2])\n",
        "    \"\"\"\n",
        "    return torch.clamp(x, min =0)\n",
        "\n",
        "# dot not work\n",
        "l1 = torch.mm(xx, w1) + b1\n",
        "rell = relu(l1)\n",
        "l1.mean(), l1.std(), rell.mean(), rell.std()"
      ],
      "execution_count": null,
      "outputs": [
        {
          "output_type": "execute_result",
          "data": {
            "text/plain": [
              "(tensor(-0.0333), tensor(1.6753), tensor(0.6519), tensor(1.0140))"
            ]
          },
          "metadata": {
            "tags": []
          },
          "execution_count": 27
        }
      ]
    },
    {
      "cell_type": "markdown",
      "metadata": {
        "id": "PiVCOzMN3Wbq"
      },
      "source": [
        "«fan_in» сохраняет величину дисперсии весов при прямом проходе.\n",
        "\n",
        "\"Fan_in\" stores the variance of the weights in the forward pass.\n",
        "\n",
        "«fan_out» сохраняет величины в обратном проходе.\n",
        "\n",
        "\"Fan_out\" stores the values in the reverse pass."
      ]
    },
    {
      "cell_type": "code",
      "metadata": {
        "colab": {
          "base_uri": "https://localhost:8080/"
        },
        "id": "ZKLDftzyuRsQ",
        "outputId": "96a82b8c-ecaa-48a7-a800-91c5edd84b42"
      },
      "source": [
        "kn = torch.nn.init.kaiming_normal_(w1, mode='fan_in')\n",
        "l1 = torch.mm(xx, kn) + b1\n",
        "rell = relu(l1)\n",
        "l1.mean(), l1.std(), rell.mean(), rell.std()"
      ],
      "execution_count": null,
      "outputs": [
        {
          "output_type": "execute_result",
          "data": {
            "text/plain": [
              "(tensor(0.0748), tensor(3.6127), tensor(1.4965), tensor(2.1001))"
            ]
          },
          "metadata": {
            "tags": []
          },
          "execution_count": 28
        }
      ]
    },
    {
      "cell_type": "code",
      "metadata": {
        "colab": {
          "base_uri": "https://localhost:8080/"
        },
        "id": "Ri3a4Ng_ypgM",
        "outputId": "cc380f30-c7c3-4901-882d-ceabe7d218ae"
      },
      "source": [
        "xn = torch.nn.init.xavier_normal_(w1)\n",
        "l1 = torch.mm(xx, xn) + b1\n",
        "rell = relu(l1)\n",
        "l1.mean(), l1.std(), rell.mean(), rell.std()"
      ],
      "execution_count": null,
      "outputs": [
        {
          "output_type": "execute_result",
          "data": {
            "text/plain": [
              "(tensor(0.1036), tensor(1.7086), tensor(0.7336), tensor(0.9943))"
            ]
          },
          "metadata": {
            "tags": []
          },
          "execution_count": 29
        }
      ]
    },
    {
      "cell_type": "markdown",
      "metadata": {
        "id": "hZMoe5mm4aL7"
      },
      "source": [
        "# Train numpy NN"
      ]
    },
    {
      "cell_type": "code",
      "metadata": {
        "colab": {
          "base_uri": "https://localhost:8080/",
          "height": 354
        },
        "id": "5SkhOKeU30Qj",
        "outputId": "0e492aea-83a8-4774-dfca-474bed1bf23c"
      },
      "source": [
        "def weight_init(w: int, h: int , mode = 'gauss') -> np.array:\n",
        "    \"\"\"\n",
        "    w : columns, Width.\n",
        "    h : rows, Height.\n",
        "    mode : ['gaussian', 'uniform'] \n",
        "    https://discuss.pytorch.org/t/how-are-layer-weights-and-biases-initialized-by-default/13073   \n",
        "    \"\"\"\n",
        "    if mode == 'gauss':\n",
        "        w = np.random.randn(w, h) / np.sqrt(w*h)\n",
        "    else:\n",
        "        \"\"\"\n",
        "        равномерное распределение\n",
        "        [низкий, высокий) (включает низкий, но исключает высокий).\n",
        "        Другими словами, любое значение в пределах данного интервала с равной вероятностью будет нарисовано униформой.\n",
        "\n",
        "        uniform distribution\n",
        "        [low, high) (includes low, but excludes high).\n",
        "        In other words, any value within the given interval is equally likely to be drawn by uniform.\n",
        "        \"\"\"\n",
        "        w = np.random.uniform(-1, 1, size = (w, h)) / np.sqrt(w*h)\n",
        "    return w.astype(np.float32)\n",
        "\n",
        "\n",
        "np.random.seed(13)\n",
        "lr = 0.001\n",
        "batch = 30\n",
        "#init weight\n",
        "l1 = weight_init(784, 128)\n",
        "l2 = weight_init(128, 10)\n",
        "\n",
        "bar = trange(100)\n",
        "accuracies, losses = [], []\n",
        "for i in bar:\n",
        "    samp = np.random.randint(0, x.shape[0], size=(batch))\n",
        "    X = x[samp].reshape(-1, 28*28).float()\n",
        "    Y = y[samp].long()\n",
        "\n",
        "    x_loss, out, d_l1, d_l2 = backward(X.numpy(), Y.numpy(), l1, l2)\n",
        "\n",
        "    cat = np.argmax(out, axis = 1)\n",
        "    acc = (cat == Y.numpy()).mean()\n",
        "\n",
        "    # update weight,  SGD\n",
        "\n",
        "    l1 = l1 - lr * d_l1\n",
        "    l2 = l2 - lr * d_l2\n",
        "\n",
        "    x_loss = x_loss.mean()\n",
        "    accuracies.append(acc)\n",
        "    losses.append(x_loss)\n",
        "    bar.set_description('Loss:  %.3f, Accuracy: %.3f' % (x_loss, acc))\n",
        "figsize(5, 5)\n",
        "plot(losses)\n",
        "plot(accuracies)"
      ],
      "execution_count": null,
      "outputs": [
        {
          "output_type": "stream",
          "text": [
            "Loss:  0.075, Accuracy: 0.867: 100%|██████████| 100/100 [00:00<00:00, 220.92it/s]\n"
          ],
          "name": "stderr"
        },
        {
          "output_type": "execute_result",
          "data": {
            "text/plain": [
              "[<matplotlib.lines.Line2D at 0x7fba6e3f1c88>]"
            ]
          },
          "metadata": {
            "tags": []
          },
          "execution_count": 30
        },
        {
          "output_type": "display_data",
          "data": {
            "image/png": "[encoded data removed]",
            "text/plain": [
              "<Figure size 360x360 with 1 Axes>"
            ]
          },
          "metadata": {
            "tags": [],
            "needs_background": "light"
          }
        }
      ]
    },
    {
      "cell_type": "code",
      "metadata": {
        "colab": {
          "base_uri": "https://localhost:8080/"
        },
        "id": "b5R38XH87LGG",
        "outputId": "83e02178-2551-4dbd-ee13-343111bd4b92"
      },
      "source": [
        "def forward(x: np.array)-> np.array:    \n",
        "    x = x.dot(l1)    \n",
        "    x = np.maximum(x, 0)    \n",
        "    x = x.dot(l2)    \n",
        "    return x\n",
        "    \n",
        "evaluate(forward)"
      ],
      "execution_count": null,
      "outputs": [
        {
          "output_type": "stream",
          "text": [
            "0.8718\n"
          ],
          "name": "stdout"
        }
      ]
    },
    {
      "cell_type": "code",
      "metadata": {
        "colab": {
          "base_uri": "https://localhost:8080/",
          "height": 354
        },
        "id": "lvC30xDi579x",
        "outputId": "17c19fe6-d0df-42e9-fc13-f72fc5e42359"
      },
      "source": [
        "np.random.seed(13)\n",
        "lr = 0.001\n",
        "batch = 30\n",
        "#init weight\n",
        "l1 = weight_init(784, 128, mode = 'uniform')\n",
        "l2 = weight_init(128, 10, mode = 'uniform')\n",
        "\n",
        "bar = trange(500)\n",
        "accuracies, losses = [], []\n",
        "for i in bar:\n",
        "    samp = np.random.randint(0, x.shape[0], size=(batch))\n",
        "    X = x[samp].reshape(-1, 28*28).float()\n",
        "    Y = y[samp].long()\n",
        "\n",
        "    x_loss, out, d_l1, d_l2 = backward(X.numpy(), Y.numpy(), l1, l2)\n",
        "\n",
        "    cat = np.argmax(out, axis = 1)\n",
        "    acc = (cat == Y.numpy()).mean()\n",
        "\n",
        "    # update weight,  SGD\n",
        "\n",
        "    l1 = l1 - lr * d_l1\n",
        "    l2 = l2 - lr * d_l2\n",
        "\n",
        "    x_loss = x_loss.mean()\n",
        "    accuracies.append(acc)\n",
        "    losses.append(x_loss)\n",
        "    bar.set_description('Loss:  %.3f, Accuracy: %.3f' % (x_loss, acc))\n",
        "figsize(5, 5)\n",
        "plot(losses)\n",
        "plot(accuracies)"
      ],
      "execution_count": null,
      "outputs": [
        {
          "output_type": "stream",
          "text": [
            "Loss:  0.025, Accuracy: 0.967: 100%|██████████| 500/500 [00:02<00:00, 201.42it/s]\n"
          ],
          "name": "stderr"
        },
        {
          "output_type": "execute_result",
          "data": {
            "text/plain": [
              "[<matplotlib.lines.Line2D at 0x7fba6e37e6a0>]"
            ]
          },
          "metadata": {
            "tags": []
          },
          "execution_count": 32
        },
        {
          "output_type": "display_data",
          "data": {
            "image/png": "[encoded data removed]",
            "text/plain": [
              "<Figure size 360x360 with 1 Axes>"
            ]
          },
          "metadata": {
            "tags": [],
            "needs_background": "light"
          }
        }
      ]
    },
    {
      "cell_type": "code",
      "metadata": {
        "colab": {
          "base_uri": "https://localhost:8080/"
        },
        "id": "0bPJZjaUB0CY",
        "outputId": "a6da8d62-727b-4a34-a16d-a6beb188231a"
      },
      "source": [
        "evaluate(forward)"
      ],
      "execution_count": null,
      "outputs": [
        {
          "output_type": "stream",
          "text": [
            "0.9355\n"
          ],
          "name": "stdout"
        }
      ]
    }
  ]
}